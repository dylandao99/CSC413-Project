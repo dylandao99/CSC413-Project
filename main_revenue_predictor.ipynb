{
 "cells": [
  {
   "cell_type": "code",
   "execution_count": null,
   "id": "eb520f15",
   "metadata": {},
   "outputs": [],
   "source": [
    "# imports\n",
    "%load_ext autoreload\n",
    "%autoreload 2\n",
    "import torch.nn as nn\n",
    "import torch\n",
    "import re\n",
    "from skimage import io\n",
    "import sys\n",
    "import numpy as np\n",
    "from tqdm import tqdm \n",
    "import cv2\n",
    "from PIL import Image\n",
    "import torchvision\n",
    "from torchvision import transforms as pth_transforms\n",
    "from skimage.transform import resize\n",
    "from sklearn.preprocessing import OneHotEncoder\n",
    "import torch.nn.functional as F\n",
    "import os\n",
    "import pandas as pd\n",
    "from torch.utils.data import Dataset, random_split, DataLoader\n",
    "from sklearn.preprocessing import OneHotEncoder\n",
    "import matplotlib.pyplot as plt\n",
    "from matplotlib.patches import Polygon\n",
    "#from RevenuePredictorViT import RevenuePredictorViT\n",
    "!git clone https://github.com/facebookresearch/dino\n",
    "sys.path.append('dino')\n",
    "from dino import vision_transformer as vits"
   ]
  },
  {
   "cell_type": "code",
   "execution_count": 2,
   "id": "925580d6",
   "metadata": {},
   "outputs": [],
   "source": [
    "# set to GPU if possible\n",
    "device = torch.device(\"cuda\") if torch.cuda.is_available() else torch.device(\"cpu\")"
   ]
  },
  {
   "cell_type": "code",
   "execution_count": 3,
   "id": "eccb8e25",
   "metadata": {},
   "outputs": [],
   "source": [
    "args_vit = {\"arch\": \"vit_small\",\n",
    " \"patch_size\": 8,\n",
    " \"out_dim\": 65536,\n",
    " \"norm_last_layer\": False,\n",
    " \"warmup_teacher_temp\": 0.04,\n",
    " \"teacher_temp\": 0.07,\n",
    " \"warmup_teacher_temp_epochs\": 30,\n",
    " \"use_fp16\": False,\n",
    " \"weight_decay\": 0.04,\n",
    " \"weight_decay_end\": 0.4,\n",
    " \"clip_grad\": 0,\n",
    " \"batch_size_per_gpu\": 64,\n",
    " \"epochs\": 800,\n",
    " \"freeze_last_layer\": 1,\n",
    " \"lr\": 0.0005,\n",
    " \"warmup_epochs\": 10,\n",
    " \"min_lr\": 1e-05,\n",
    " \"global_crops_scale\": [0.25,\n",
    " 1.0],\n",
    " \"local_crops_scale\": [0.05,\n",
    " 0.25],\n",
    " \"local_crops_number\": 10,\n",
    " \"seed\": 0,\n",
    " \"num_workers\": 10,\n",
    " \"world_size\": 16,\n",
    " \"ngpus\": 8,\n",
    " \"nodes\": 2,\n",
    " \"optimizer\": \"adamw\",\n",
    " \"momentum_teacher\": 0.996,\n",
    " \"use_bn_in_head\": False,\n",
    " \"drop_path_rate\": 0.1,\n",
    " \"image_path\": \"./test_img/airbud.jpeg\",\n",
    " \"threshold\": None,\n",
    " \"image_size\": (480, 480),\n",
    " \"output_dir\": \"./\"\n",
    "}\n",
    "\n",
    "args = {\n",
    "   \"avgpool\": False,\n",
    "    \"last_n_blocks\": 4, # TODO change this, this is what eval linear does\n",
    "    \"n_dnn_img_features\": 16,\n",
    "    \"n_features\": 14,\n",
    "    \"n_output_bins\": 6,\n",
    "    \"batch_size\": 64, # TODO change this?\n",
    "}\n",
    "\n",
    "path_prefix = './'"
   ]
  },
  {
   "attachments": {},
   "cell_type": "markdown",
   "id": "a87902e5",
   "metadata": {},
   "source": [
    "Optional: for running on google colab"
   ]
  },
  {
   "cell_type": "code",
   "execution_count": null,
   "id": "f78c7b4c",
   "metadata": {},
   "outputs": [],
   "source": [
    "from google.colab import drive\n",
    "# This will prompt for authorization.\n",
    "drive.mount('/content/drive')\n",
    "path_prefix = '/content/drive/My Drive/'"
   ]
  },
  {
   "cell_type": "markdown",
   "id": "40c0f5ea",
   "metadata": {},
   "source": [
    "# Load Data\n",
    "Parameters\n",
    "- csv\n",
    "- number of entries to load (default all)\n",
    "- path to images\n",
    "- image transform function\n",
    "\n",
    "Returns\n",
    "- imgs\n",
    "- features\n",
    "- revenue (label?)"
   ]
  },
  {
   "cell_type": "code",
   "execution_count": 4,
   "id": "ec2626a8",
   "metadata": {},
   "outputs": [],
   "source": [
    "def img_rename(img_name):\n",
    "    return re.sub(r'\\W+', ' ', img_name).lower().strip().replace(' ', '+') + '.jpg'\n",
    "\n",
    "def resize_poster(img, target_size):\n",
    "    img_resized = resize(img, (target_size, int(img.shape[1] * (target_size / img.shape[0]))), anti_aliasing=True)\n",
    "    pad_size_1 = (target_size - img_resized.shape[1]) // 2\n",
    "    pad_size_2 = target_size - img_resized.shape[1] - pad_size_1\n",
    "    padding = [(0, 0), (pad_size_1, pad_size_2), (0, 0)]\n",
    "    if len(img_resized.shape) == 2: # gray scale image\n",
    "        padding = [(0, 0), (pad_size_1, pad_size_2)]\n",
    "    img_padded = np.pad(img_resized, padding, mode='constant', constant_values=0)\n",
    "    return img_padded\n",
    "\n",
    "class FeatureDataset(Dataset):\n",
    "    def __init__(self, csv_path, img_dir, transform, device, n_output_bins, n_max=None):\n",
    "        # load csv data\n",
    "        md_df = pd.read_csv(csv_path)\n",
    "        \n",
    "        # Groups numerical revenue, currently 6 bins\n",
    "        num = range(n_output_bins)\n",
    "\n",
    "        revenue_in = pd.qcut(md_df['domestic_box_office'] + md_df['international_box_office'], q=n_output_bins, labels=num)\n",
    "\n",
    "        enc = OneHotEncoder().fit(np.array(revenue_in).reshape(-1,1))\n",
    "        df = pd.DataFrame(enc.transform(np.array(revenue_in).reshape(-1,1)).toarray())\n",
    "        df['combine'] = df.values.tolist()\n",
    "        md_df['revenue_bin'] = df['combine']\n",
    "        \n",
    "        movie_data = np.pad(md_df.to_numpy(), [(0, 0), (0, 1)], mode='constant', constant_values=np.nan)\n",
    "        \n",
    "        # restrict dataset for testing purposes\n",
    "        if n_max:\n",
    "            movie_data = movie_data[:n_max,:]\n",
    "        \n",
    "        # TODO TRANSFORM FEATURES FROM CSV SOMEHOW\n",
    "        \n",
    "        # load image data\n",
    "        for i in range(movie_data.shape[0]):\n",
    "            img_path = img_dir + img_rename(movie_data[i,7])\n",
    "            try:\n",
    "                img = transform(io.imread(img_path))\n",
    "            except FileNotFoundError:\n",
    "                pass\n",
    "            movie_data[i, -1] = img\n",
    "        \n",
    "        self.movie_data = movie_data\n",
    "        \n",
    "    def __len__(self):\n",
    "        return self.movie_data.shape[0]\n",
    "\n",
    "    def __getitem__(self, idx):\n",
    "        \n",
    "        movie = self.movie_data[idx]\n",
    "        \n",
    "        revenue_id = 10\n",
    "        \n",
    "        img = torch.tensor(movie[-1]).to(torch.float32).swapaxes(0,2)\n",
    "        label = torch.tensor(movie[-2]) # set this to whatever the revenue entry is\n",
    "        features = np.delete(movie, (revenue_id, revenue_id+1, -1)) # remove image and revenue from non-image features\n",
    "        \n",
    "        # TODO idk how we're representing the dnn features so I'm just gonna make a dummy\n",
    "        features = torch.tensor([1,2,3,4,5,6,7,8,9,10,11,12,13,14]).to(torch.float32)\n",
    "        \n",
    "        # MAKE THE SIZES WORK FOR VIT\n",
    "        #img = img.swapaxes(0,2).unsqueeze(0).to(torch.float32)\n",
    "        #features = features.unsqueeze(0)\n",
    "        \n",
    "        return img, features, label"
   ]
  },
  {
   "cell_type": "code",
   "execution_count": 63,
   "id": "ce990744",
   "metadata": {},
   "outputs": [],
   "source": [
    "def load_dataset(csv_name, poster_dir):\n",
    "    # TODO change transform function if desired\n",
    "    img_size = 250\n",
    "    transform = lambda x: resize_poster(x, img_size) \n",
    "\n",
    "    full_dataset = FeatureDataset(\n",
    "        csv_path=path_prefix+csv_name,\n",
    "        img_dir=path_prefix+poster_dir,\n",
    "        transform=transform,\n",
    "        device=device,\n",
    "        n_max=50,\n",
    "        n_output_bins=args['n_output_bins']\n",
    "    )\n",
    "\n",
    "    test_pct, val_pct = 0.3, 0.1\n",
    "    test_size = int(len(full_dataset)*test_pct)\n",
    "    dataset_size = len(full_dataset) - test_size\n",
    "    val_size = int(dataset_size*val_pct)\n",
    "    train_size = dataset_size - val_size\n",
    "\n",
    "    train_dataset, val_dataset, test_dataset = random_split(full_dataset, [train_size, val_size, test_size])\n",
    "\n",
    "    train_dl = DataLoader(train_dataset, args['batch_size'], shuffle=True, num_workers=0, pin_memory=True)\n",
    "    val_dl = DataLoader(val_dataset, args['batch_size'], num_workers=0, pin_memory=True)\n",
    "    test_dl = DataLoader(test_dataset, args['batch_size'], num_workers=0, pin_memory=True)\n",
    "\n",
    "    return train_dataset, val_dataset, test_dataset, train_dl, val_dl, test_dl"
   ]
  },
  {
   "cell_type": "code",
   "execution_count": null,
   "id": "1973a326",
   "metadata": {},
   "outputs": [],
   "source": [
    "train_dataset, val_dataset, test_dataset, train_dl, val_dl, test_dl = load_dataset('MovieDataEnhanced.zip', 'poster_img/')"
   ]
  },
  {
   "cell_type": "code",
   "execution_count": 51,
   "id": "7ef7ae0a",
   "metadata": {},
   "outputs": [
    {
     "name": "stdout",
     "output_type": "stream",
     "text": [
      "tensor([ 1.,  2.,  3.,  4.,  5.,  6.,  7.,  8.,  9., 10., 11., 12., 13., 14.])\n",
      "tensor([0., 0., 1., 0., 0., 0.])\n"
     ]
    },
    {
     "data": {
      "image/png": "[encoded data removed]",
      "text/plain": [
       "<Figure size 640x480 with 1 Axes>"
      ]
     },
     "metadata": {},
     "output_type": "display_data"
    }
   ],
   "source": [
    "# test sampling dataset\n",
    "img, features, label = train_dataset[0]\n",
    "print(features)\n",
    "io.imshow(img.swapaxes(0,2).detach().numpy())\n",
    "print(label)"
   ]
  },
  {
   "cell_type": "markdown",
   "id": "5008defb",
   "metadata": {},
   "source": [
    "# Misc"
   ]
  },
  {
   "cell_type": "code",
   "execution_count": 52,
   "id": "980989e0",
   "metadata": {},
   "outputs": [],
   "source": [
    "# load image\n",
    "image_path = \"./test_img/airbud.jpeg\"\n",
    "with open(image_path, 'rb') as f:\n",
    "    img = Image.open(f)\n",
    "    img = img.convert('RGB')\n",
    "transform = pth_transforms.Compose([\n",
    "    pth_transforms.Resize(args_vit['image_size']),\n",
    "    pth_transforms.ToTensor(),\n",
    "    pth_transforms.Normalize((0.485, 0.456, 0.406), (0.229, 0.224, 0.225)),\n",
    "])\n",
    "img = transform(img)\n",
    "\n",
    "# make the image divisible by the patch size\n",
    "w, h = img.shape[1] - img.shape[1] % args_vit['patch_size'], img.shape[2] - img.shape[2] % args_vit['patch_size']\n",
    "img = img[:, :w, :h].unsqueeze(0)\n",
    "\n",
    "w_featmap = img.shape[-2] // args_vit['patch_size']\n",
    "h_featmap = img.shape[-1] // args_vit['patch_size']\n",
    "\n",
    "#rp_ViT.ViT_teacher(img.to(device)).shape\n",
    "#intermediate_output = rp_ViT.ViT_teacher.get_intermediate_layers(img.to(device), 4)"
   ]
  },
  {
   "cell_type": "markdown",
   "id": "77869e1c",
   "metadata": {},
   "source": [
    "# Generic Training Class"
   ]
  },
  {
   "cell_type": "code",
   "execution_count": 53,
   "id": "52c66d33",
   "metadata": {},
   "outputs": [],
   "source": [
    "def accuracy(outputs, labels):\n",
    "    _, preds = torch.max(outputs, dim=1)\n",
    "    _, gts = torch.max(labels, dim=1)\n",
    "    return torch.tensor(torch.sum(preds == gts).item() / len(preds))\n",
    "    \n",
    "class DNNBase(nn.Module):\n",
    "    # training step\n",
    "    def training_step(self, batch):\n",
    "        img, features, targets = batch\n",
    "        out = self(img, features)\n",
    "        loss = F.cross_entropy(out, targets)\n",
    "        acc = accuracy(out, targets)\n",
    "        #print(\"out:\", out)\n",
    "        #print(\"targets:\", targets)\n",
    "        return loss, acc\n",
    "    \n",
    "    # validation step\n",
    "    def validation_step(self, batch):\n",
    "        img, targets = batch\n",
    "        out = self(img)\n",
    "        loss = F.cross_entropy(out, targets)\n",
    "        acc = accuracy(out, targets)\n",
    "        return {'val_acc':acc.detach(), 'val_loss':loss.detach()}\n",
    "    \n",
    "    # validation epoch end\n",
    "    def validation_epoch_end(self, outputs):\n",
    "        batch_losses = [x['val_loss'] for x in outputs]\n",
    "        epoch_loss = torch.stack(batch_losses).mean()\n",
    "        batch_accs = [x['val_acc'] for x in outputs]\n",
    "        epoch_acc = torch.stack(batch_accs).mean()\n",
    "        return {'val_loss':epoch_loss.item(), 'val_acc':epoch_acc.item()}\n",
    "        \n",
    "    # print result end epoch\n",
    "    def epoch_end(self, epoch, result):\n",
    "        print(\"Epoch [{}] : train_loss: {:.4f}, train_acc: {:.4f}, val_loss: {:.4f}, val_acc: {:.4f}, test_acc: {:.4f}\".format(\n",
    "                epoch, result[\"train_loss\"], result[\"train_acc\"], result[\"val_loss\"], result[\"val_acc\"], result[\"test_acc\"]\n",
    "            ))"
   ]
  },
  {
   "cell_type": "code",
   "execution_count": 54,
   "id": "efbe7236",
   "metadata": {},
   "outputs": [],
   "source": [
    "class RevenuePredictorViT(DNNBase):\n",
    "    def __init__(self, args, args_vit):\n",
    "        super().__init__()\n",
    "\n",
    "        student, teacher = self.load_pretrained_ViT(args_vit)\n",
    "\n",
    "        self.vit_student = student\n",
    "        self.vit_teacher = teacher\n",
    "\n",
    "        self.vit_output_size = \\\n",
    "            args['last_n_blocks'] * self.vit_teacher.embed_dim\n",
    "\n",
    "        self.vit2dnn = nn.Linear(self.vit_output_size, args['n_dnn_img_features'])\n",
    "\n",
    "        # TODO set this to actual DNN\n",
    "        #self.dnn = nn.Linear(args['n_dnn_img_features'] + args['n_features'], 1)\n",
    "        self.dnn = nn.Sequential(\n",
    "            nn.Linear(args['n_dnn_img_features'] + args['n_features'], 128),\n",
    "            nn.ReLU(),\n",
    "            nn.Linear(128, args['n_output_bins']),\n",
    "            nn.Softmax(dim=1)\n",
    "        )\n",
    "\n",
    "        self.args = args\n",
    "\n",
    "    def forward(self, img, features):\n",
    "        # vit\n",
    "        with torch.no_grad(): # TODO finetune ViT, is a bit complex\n",
    "            model = self.vit_teacher\n",
    "            intermediate_output = model.get_intermediate_layers(img, self.args['last_n_blocks'])\n",
    "            vit_output = torch.cat([x[:, 0] for x in intermediate_output], dim=-1)\n",
    "            if self.args['avgpool']:\n",
    "                vit_output = torch.cat((vit_output.unsqueeze(-1), torch.mean(intermediate_output[-1][:, 1:], dim=1).unsqueeze(-1)), dim=-1)\n",
    "                vit_output = vit_output.reshape(vit_output.shape[0], -1)\n",
    "\n",
    "        # vit2dnn\n",
    "        fc_output = self.vit2dnn(vit_output)\n",
    "\n",
    "        # dnn\n",
    "        dnn_input = torch.cat((fc_output, features), dim=1) # concatenate img features with other movie details\n",
    "        output = self.dnn(dnn_input)\n",
    "        return output\n",
    "\n",
    "    # create function to load pretrained model\n",
    "    def load_pretrained_ViT(self, args):\n",
    "\n",
    "        # initialize models\n",
    "        student = vits.__dict__[args['arch']](patch_size=args['patch_size'], num_classes=0)\n",
    "        teacher = vits.__dict__[args['arch']](patch_size=args['patch_size'], num_classes=0)\n",
    "\n",
    "        # fetch pretrained models\n",
    "        url = None\n",
    "        if args['arch'] == \"vit_small\" and args['patch_size'] == 16:\n",
    "            url = \"dino_deitsmall16_pretrain/dino_deitsmall16_pretrain_full_checkpoint.pth\"\n",
    "        elif args['arch'] == \"vit_small\" and args['patch_size'] == 8:\n",
    "            url = \"dino_deitsmall8_300ep_pretrain/dino_deitsmall8_300ep_pretrain_full_checkpoint.pth\"  # model used for visualizations in our paper\n",
    "        elif args['arch'] == \"vit_base\" and args['patch_size'] == 16:\n",
    "            url = \"dino_vitbase16_pretrain/dino_vitbase16_pretrain_full_checkpoint.pth\"\n",
    "        elif args['arch'] == \"vit_base\" and args['patch_size'] == 8:\n",
    "            url = \"dino_vitbase8_pretrain/dino_vitbase8_pretrain_full_checkpoint.pth\"\n",
    "\n",
    "        state_dict = torch.hub.load_state_dict_from_url(url=\"https://dl.fbaipublicfiles.com/dino/\" + url)\n",
    "\n",
    "        state_dict_teacher = state_dict['teacher']\n",
    "        # remove `module.` prefix\n",
    "        state_dict_teacher = {k.replace(\"module.\", \"\"): v for k, v in state_dict_teacher.items()}\n",
    "        # remove `backbone.` prefix induced by multicrop wrapper\n",
    "        state_dict_teacher = {k.replace(\"backbone.\", \"\"): v for k, v in state_dict_teacher.items()}\n",
    "\n",
    "        msg = teacher.load_state_dict(state_dict_teacher, strict=False)\n",
    "        print('Pretrained weights found and loaded with msg: {}'.format(msg))\n",
    "\n",
    "        state_dict_student = state_dict['student']\n",
    "        # remove `module.` prefix\n",
    "        state_dict_student = {k.replace(\"module.\", \"\"): v for k, v in state_dict_student.items()}\n",
    "        # remove `backbone.` prefix induced by multicrop wrapper\n",
    "        state_dict_student = {k.replace(\"backbone.\", \"\"): v for k, v in state_dict_student.items()}\n",
    "\n",
    "        msg = student.load_state_dict(state_dict_student, strict=False)\n",
    "        print('Pretrained weights found and loaded with msg: {}'.format(msg))\n",
    "\n",
    "        # test this by running the eval thing\n",
    "        return student, teacher"
   ]
  },
  {
   "cell_type": "markdown",
   "id": "e66c3618",
   "metadata": {},
   "source": [
    "# Training Loop"
   ]
  },
  {
   "cell_type": "code",
   "execution_count": 55,
   "id": "410512b1",
   "metadata": {},
   "outputs": [
    {
     "name": "stdout",
     "output_type": "stream",
     "text": [
      "Pretrained weights found and loaded with msg: _IncompatibleKeys(missing_keys=[], unexpected_keys=['head.projection_head.0.weight', 'head.projection_head.0.bias', 'head.projection_head.2.weight', 'head.projection_head.2.bias', 'head.projection_head.4.weight', 'head.projection_head.4.bias', 'head.prototypes.weight'])\n",
      "Pretrained weights found and loaded with msg: _IncompatibleKeys(missing_keys=[], unexpected_keys=['head.projection_head.0.weight', 'head.projection_head.0.bias', 'head.projection_head.2.weight', 'head.projection_head.2.bias', 'head.projection_head.4.weight', 'head.projection_head.4.bias', 'head.prototypes.weight'])\n"
     ]
    }
   ],
   "source": [
    "rp_ViT = RevenuePredictorViT(args, args_vit)"
   ]
  },
  {
   "cell_type": "markdown",
   "id": "a9c049fb",
   "metadata": {},
   "source": [
    "# Test one input"
   ]
  },
  {
   "cell_type": "code",
   "execution_count": 56,
   "id": "877b60d5",
   "metadata": {},
   "outputs": [
    {
     "name": "stdout",
     "output_type": "stream",
     "text": [
      "torch.Size([3, 250, 250])\n",
      "torch.Size([14])\n",
      "tensor([0., 0., 1., 0., 0., 0.])\n"
     ]
    },
    {
     "data": {
      "text/plain": [
       "tensor([[0.0259, 0.6920, 0.0192, 0.1629, 0.0834, 0.0166]],\n",
       "       grad_fn=<SoftmaxBackward0>)"
      ]
     },
     "execution_count": 56,
     "metadata": {},
     "output_type": "execute_result"
    }
   ],
   "source": [
    "img, features, label = train_dataset[0]\n",
    "print(img.shape)\n",
    "print(features.shape)\n",
    "print(label)\n",
    "img = img.unsqueeze(0).to(torch.float32)\n",
    "features = features.unsqueeze(0)\n",
    "        \n",
    "rp_ViT(img, features)"
   ]
  },
  {
   "cell_type": "code",
   "execution_count": 64,
   "id": "770280c7",
   "metadata": {},
   "outputs": [],
   "source": [
    "batch_size=10\n",
    "optimizer_classification = torch.optim.Adam(rp_ViT.parameters(), lr=0.001)\n",
    "trainloader = torch.utils.data.DataLoader(train_dataset, batch_size=batch_size,\n",
    "                                          shuffle=True)"
   ]
  },
  {
   "cell_type": "code",
   "execution_count": null,
   "id": "73e1d020",
   "metadata": {},
   "outputs": [
    {
     "name": "stderr",
     "output_type": "stream",
     "text": [
      "\r\n",
      "  0%|                                                              | 0/2 [00:00<?, ?it/s]"
     ]
    },
    {
     "name": "stdout",
     "output_type": "stream",
     "text": [
      "[1,     1] loss: 1.585 acc: 0.300\n",
      "[1,     2] loss: 1.426 acc: 0.600\n",
      "[1,     3] loss: 1.739 acc: 0.300\n",
      "[1,     4] loss: 1.530 acc: 0.600\n"
     ]
    },
    {
     "name": "stderr",
     "output_type": "stream",
     "text": [
      "\r\n",
      " 50%|███████████████████████████                           | 1/2 [01:02<01:02, 62.44s/it]"
     ]
    },
    {
     "name": "stdout",
     "output_type": "stream",
     "text": [
      "[1,     5] loss: 1.613 acc: 0.400\n"
     ]
    }
   ],
   "source": [
    "for epoch in tqdm(range(2)):  # loop over the dataset multiple times\n",
    "\n",
    "    running_loss = 0.0\n",
    "    for i, data in enumerate(trainloader, 0):\n",
    "        # get the inputs; data is a list of [inputs, labels]\n",
    "        img, features, label = data\n",
    "        img = img.swapaxes(1,3)\n",
    "\n",
    "        # zero the parameter gradients\n",
    "        optimizer_classification.zero_grad()\n",
    "\n",
    "        # forward + backward + optimize\n",
    "        loss, acc = rp_ViT.training_step(data)\n",
    "        #print(labels, outputs)\n",
    "        loss.backward(retain_graph=True)\n",
    "        optimizer_classification.step()\n",
    "\n",
    "        # print statistics\n",
    "        running_loss += loss.item()\n",
    "        if i % 1 == 0:    # print every 2000 mini-batches\n",
    "            print(f'[{epoch + 1}, {i + 1:5d}] loss: {running_loss:.3f} acc: {acc:.3f}')\n",
    "            running_loss = 0.0\n",
    "        \n",
    "print('Finished Training')"
   ]
  },
  {
   "cell_type": "code",
   "execution_count": null,
   "id": "56690fcb",
   "metadata": {},
   "outputs": [],
   "source": [
    "img, features, label = train_dataset[9]\n",
    "print(img.shape)\n",
    "print(features.shape)\n",
    "print(label)\n",
    "img = img.unsqueeze(0).to(torch.float32)\n",
    "features = features.unsqueeze(0)\n",
    "        \n",
    "rp_ViT(img, features)"
   ]
  },
  {
   "cell_type": "code",
   "execution_count": null,
   "id": "5ce1ec08",
   "metadata": {},
   "outputs": [],
   "source": []
  },
  {
   "cell_type": "code",
   "execution_count": null,
   "id": "5d41a167",
   "metadata": {},
   "outputs": [],
   "source": []
  }
 ],
 "metadata": {
  "kernelspec": {
   "display_name": "Python 3 (ipykernel)",
   "language": "python",
   "name": "python3"
  },
  "language_info": {
   "codemirror_mode": {
    "name": "ipython",
    "version": 3
   },
   "file_extension": ".py",
   "mimetype": "text/x-python",
   "name": "python",
   "nbconvert_exporter": "python",
   "pygments_lexer": "ipython3",
   "version": "3.8.9"
  }
 },
 "nbformat": 4,
 "nbformat_minor": 5
}
