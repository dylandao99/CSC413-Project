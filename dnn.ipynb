{
 "cells": [
  {
   "cell_type": "markdown",
   "metadata": {
    "id": "s9IS9B9-yUU5"
   },
   "source": [
    "# Setup\n",
    "\n"
   ]
  },
  {
   "cell_type": "code",
   "execution_count": 83,
   "metadata": {
    "colab": {
     "base_uri": "https://localhost:8080/"
    },
    "id": "JNdb04-rKPBy",
    "outputId": "0b96ef92-5362-41b7-de3b-ac7c6e47f431"
   },
   "outputs": [
    {
     "name": "stdout",
     "output_type": "stream",
     "text": [
      "Drive already mounted at /content/drive; to attempt to forcibly remount, call drive.mount(\"/content/drive\", force_remount=True).\n"
     ]
    }
   ],
   "source": [
    "from google.colab import drive\n",
    "# This will prompt for authorization.\n",
    "drive.mount('/content/drive')"
   ]
  },
  {
   "cell_type": "code",
   "execution_count": 84,
   "metadata": {
    "id": "Z-6MQhMOlHXD"
   },
   "outputs": [],
   "source": [
    "import io\n",
    "import pandas as pd\n",
    "######################################################################\n",
    "# Setup python environment \n",
    "######################################################################\n",
    "csv_path = '/content/drive/My Drive/Colab Notebooks/CSC413/Final Project/MovieData.csv'\n",
    "md_df = pd.read_csv(csv_path)\n",
    "md_df['movie_name'] = md_df['movie_name'].str.replace(\" \", \"+\")\n",
    "md_df_2 = md_df[['movie_name', 'production_year', 'production_budget', 'domestic_box_office', 'international_box_office', 'genre', 'running_time']]\n",
    "# Dataset is now stored in a Pandas Dataframe"
   ]
  },
  {
   "cell_type": "code",
   "execution_count": 85,
   "metadata": {
    "id": "LAgCBGEsJkCk"
   },
   "outputs": [],
   "source": [
    "import requests\n",
    "import json\n",
    "from PIL import Image\n",
    "from skimage import io\n",
    "import cv2\n",
    "import numpy as np\n",
    "import matplotlib.pyplot as plt\n",
    "import torchvision.transforms as transforms\n",
    "\n",
    "\n",
    "api_key_auth3 = 'fad9ac13c7b36b3e05f6b63be16e74f0'"
   ]
  },
  {
   "cell_type": "code",
   "execution_count": 86,
   "metadata": {
    "id": "Xj2n684vwgon"
   },
   "outputs": [],
   "source": [
    "CUDA_LAUNCH_BLOCKING = \"1\"\n",
    "import torch.nn as nn\n",
    "import torch\n",
    "from torch.utils.data import Dataset"
   ]
  },
  {
   "cell_type": "code",
   "execution_count": 87,
   "metadata": {
    "id": "TXJ_vXg6NV8Q"
   },
   "outputs": [],
   "source": [
    "from sklearn.preprocessing import OneHotEncoder"
   ]
  },
  {
   "cell_type": "code",
   "execution_count": 88,
   "metadata": {
    "colab": {
     "base_uri": "https://localhost:8080/",
     "height": 109
    },
    "id": "tNgqgpaL4gR6",
    "outputId": "a390f2d3-a194-41cb-b12d-b6ef78d35454"
   },
   "outputs": [
    {
     "data": {
      "text/html": [
       "\n",
       "  <div id=\"df-24483a68-b87d-4c6f-9260-1c07363c0626\">\n",
       "    <div class=\"colab-df-container\">\n",
       "      <div>\n",
       "<style scoped>\n",
       "    .dataframe tbody tr th:only-of-type {\n",
       "        vertical-align: middle;\n",
       "    }\n",
       "\n",
       "    .dataframe tbody tr th {\n",
       "        vertical-align: top;\n",
       "    }\n",
       "\n",
       "    .dataframe thead th {\n",
       "        text-align: right;\n",
       "    }\n",
       "</style>\n",
       "<table border=\"1\" class=\"dataframe\">\n",
       "  <thead>\n",
       "    <tr style=\"text-align: right;\">\n",
       "      <th></th>\n",
       "      <th>movie_name</th>\n",
       "      <th>production_year</th>\n",
       "      <th>production_budget</th>\n",
       "      <th>domestic_box_office</th>\n",
       "      <th>international_box_office</th>\n",
       "      <th>genre</th>\n",
       "      <th>running_time</th>\n",
       "    </tr>\n",
       "  </thead>\n",
       "  <tbody>\n",
       "    <tr>\n",
       "      <th>588</th>\n",
       "      <td>Brothers</td>\n",
       "      <td>2009</td>\n",
       "      <td>26000000</td>\n",
       "      <td>28544157</td>\n",
       "      <td>16499713</td>\n",
       "      <td>Drama</td>\n",
       "      <td>105.0</td>\n",
       "    </tr>\n",
       "    <tr>\n",
       "      <th>1495</th>\n",
       "      <td>Brothers</td>\n",
       "      <td>2015</td>\n",
       "      <td>13000000</td>\n",
       "      <td>656688</td>\n",
       "      <td>17200000</td>\n",
       "      <td>Action</td>\n",
       "      <td>155.0</td>\n",
       "    </tr>\n",
       "  </tbody>\n",
       "</table>\n",
       "</div>\n",
       "      <button class=\"colab-df-convert\" onclick=\"convertToInteractive('df-24483a68-b87d-4c6f-9260-1c07363c0626')\"\n",
       "              title=\"Convert this dataframe to an interactive table.\"\n",
       "              style=\"display:none;\">\n",
       "        \n",
       "  <svg xmlns=\"http://www.w3.org/2000/svg\" height=\"24px\"viewBox=\"0 0 24 24\"\n",
       "       width=\"24px\">\n",
       "    <path d=\"M0 0h24v24H0V0z\" fill=\"none\"/>\n",
       "    <path d=\"M18.56 5.44l.94 2.06.94-2.06 2.06-.94-2.06-.94-.94-2.06-.94 2.06-2.06.94zm-11 1L8.5 8.5l.94-2.06 2.06-.94-2.06-.94L8.5 2.5l-.94 2.06-2.06.94zm10 10l.94 2.06.94-2.06 2.06-.94-2.06-.94-.94-2.06-.94 2.06-2.06.94z\"/><path d=\"M17.41 7.96l-1.37-1.37c-.4-.4-.92-.59-1.43-.59-.52 0-1.04.2-1.43.59L10.3 9.45l-7.72 7.72c-.78.78-.78 2.05 0 2.83L4 21.41c.39.39.9.59 1.41.59.51 0 1.02-.2 1.41-.59l7.78-7.78 2.81-2.81c.8-.78.8-2.07 0-2.86zM5.41 20L4 18.59l7.72-7.72 1.47 1.35L5.41 20z\"/>\n",
       "  </svg>\n",
       "      </button>\n",
       "      \n",
       "  <style>\n",
       "    .colab-df-container {\n",
       "      display:flex;\n",
       "      flex-wrap:wrap;\n",
       "      gap: 12px;\n",
       "    }\n",
       "\n",
       "    .colab-df-convert {\n",
       "      background-color: #E8F0FE;\n",
       "      border: none;\n",
       "      border-radius: 50%;\n",
       "      cursor: pointer;\n",
       "      display: none;\n",
       "      fill: #1967D2;\n",
       "      height: 32px;\n",
       "      padding: 0 0 0 0;\n",
       "      width: 32px;\n",
       "    }\n",
       "\n",
       "    .colab-df-convert:hover {\n",
       "      background-color: #E2EBFA;\n",
       "      box-shadow: 0px 1px 2px rgba(60, 64, 67, 0.3), 0px 1px 3px 1px rgba(60, 64, 67, 0.15);\n",
       "      fill: #174EA6;\n",
       "    }\n",
       "\n",
       "    [theme=dark] .colab-df-convert {\n",
       "      background-color: #3B4455;\n",
       "      fill: #D2E3FC;\n",
       "    }\n",
       "\n",
       "    [theme=dark] .colab-df-convert:hover {\n",
       "      background-color: #434B5C;\n",
       "      box-shadow: 0px 1px 3px 1px rgba(0, 0, 0, 0.15);\n",
       "      filter: drop-shadow(0px 1px 2px rgba(0, 0, 0, 0.3));\n",
       "      fill: #FFFFFF;\n",
       "    }\n",
       "  </style>\n",
       "\n",
       "      <script>\n",
       "        const buttonEl =\n",
       "          document.querySelector('#df-24483a68-b87d-4c6f-9260-1c07363c0626 button.colab-df-convert');\n",
       "        buttonEl.style.display =\n",
       "          google.colab.kernel.accessAllowed ? 'block' : 'none';\n",
       "\n",
       "        async function convertToInteractive(key) {\n",
       "          const element = document.querySelector('#df-24483a68-b87d-4c6f-9260-1c07363c0626');\n",
       "          const dataTable =\n",
       "            await google.colab.kernel.invokeFunction('convertToInteractive',\n",
       "                                                     [key], {});\n",
       "          if (!dataTable) return;\n",
       "\n",
       "          const docLinkHtml = 'Like what you see? Visit the ' +\n",
       "            '<a target=\"_blank\" href=https://colab.research.google.com/notebooks/data_table.ipynb>data table notebook</a>'\n",
       "            + ' to learn more about interactive tables.';\n",
       "          element.innerHTML = '';\n",
       "          dataTable['output_type'] = 'display_data';\n",
       "          await google.colab.output.renderOutput(dataTable, element);\n",
       "          const docLink = document.createElement('div');\n",
       "          docLink.innerHTML = docLinkHtml;\n",
       "          element.appendChild(docLink);\n",
       "        }\n",
       "      </script>\n",
       "    </div>\n",
       "  </div>\n",
       "  "
      ],
      "text/plain": [
       "     movie_name  production_year  production_budget  domestic_box_office  \\\n",
       "588    Brothers             2009           26000000             28544157   \n",
       "1495   Brothers             2015           13000000               656688   \n",
       "\n",
       "      international_box_office   genre  running_time  \n",
       "588                   16499713   Drama         105.0  \n",
       "1495                  17200000  Action         155.0  "
      ]
     },
     "execution_count": 88,
     "metadata": {},
     "output_type": "execute_result"
    }
   ],
   "source": [
    "md_df_2.loc[md_df['movie_name'] == 'Brothers']"
   ]
  },
  {
   "cell_type": "code",
   "execution_count": 89,
   "metadata": {
    "colab": {
     "base_uri": "https://localhost:8080/"
    },
    "id": "y7rn8FfD3UPz",
    "outputId": "8664db5e-cb39-404b-f8f8-6227759dc46c"
   },
   "outputs": [
    {
     "data": {
      "text/plain": [
       "movie_name\n",
       "Brothers                                2\n",
       "Home                                    2\n",
       "10+Days+in+a+Madhouse                   1\n",
       "Soul+Men                                1\n",
       "Spider-Man:+Into+The+Spider-Verse+3D    1\n",
       "                                       ..\n",
       "Le+prénom                               0\n",
       "The+Joneses                             0\n",
       "Free+Style                              0\n",
       "Haeundae                                0\n",
       "Triangle                                0\n",
       "Name: genre, Length: 1931, dtype: int64"
      ]
     },
     "execution_count": 89,
     "metadata": {},
     "output_type": "execute_result"
    }
   ],
   "source": [
    "md_df_2.groupby('movie_name').genre.nunique().sort_values(ascending = False)"
   ]
  },
  {
   "cell_type": "markdown",
   "metadata": {
    "id": "3PiPezI5PAxe"
   },
   "source": [
    "# API Example"
   ]
  },
  {
   "cell_type": "code",
   "execution_count": 90,
   "metadata": {
    "id": "nESm4Es7NuJ6"
   },
   "outputs": [],
   "source": [
    "response = requests.get(f\"https://api.themoviedb.org/3/search/movie?api_key={api_key_auth3}&query=Brothers\")\n",
    "response = response.json()"
   ]
  },
  {
   "cell_type": "code",
   "execution_count": 91,
   "metadata": {
    "colab": {
     "base_uri": "https://localhost:8080/"
    },
    "id": "22fbMBq1OB5h",
    "outputId": "eb7407e4-31ec-4a5d-b890-33aa4bb1eda8"
   },
   "outputs": [
    {
     "name": "stdout",
     "output_type": "stream",
     "text": [
      "[{'adult': False, 'backdrop_path': '/zncDexWfEHrPVwvPGGbiVjbyabJ.jpg', 'genre_ids': [18, 53, 10752], 'id': 7445, 'original_language': 'en', 'original_title': 'Brothers', 'overview': 'When his helicopter goes down during his fourth tour of duty in Afghanistan, Marine Sam Cahill is presumed dead. Back home, brother Tommy steps in to look over Sam’s wife, Grace, and two children. Sam’s surprise homecoming triggers domestic mayhem.', 'popularity': 115.696, 'poster_path': '/ySXRgHCdelVtvUyHcKGpiQKb052.jpg', 'release_date': '2009-01-22', 'title': 'Brothers', 'video': False, 'vote_average': 7.307, 'vote_count': 2968}, {'adult': False, 'backdrop_path': '/7PzpnGL4W0oy1NAd0toIZeuDt0G.jpg', 'genre_ids': [16, 35, 14], 'id': 28152, 'original_language': 'ja', 'original_title': 'スーパーマリオブラザーズ ピーチ姫救出大作戦!', 'overview': 'When Princess Peach is kidnapped by the monster King Koopa, Mario and his brother Luigi journey to the Mushroom Kingdom to rescue her.', 'popularity': 596.847, 'poster_path': '/d8466YAgDFZmsrWmgizPcUQMsIx.jpg', 'release_date': '1986-07-20', 'title': 'Super Mario Brothers: Great Mission to Rescue Princess Peach', 'video': False, 'vote_average': 6.1, 'vote_count': 16}, {'adult': False, 'backdrop_path': None, 'genre_ids': [18], 'id': 397805, 'original_language': 'en', 'original_title': 'Brothers', 'overview': 'A gripping, Cain-and-Abel tale.', 'popularity': 3.305, 'poster_path': '/odWeSuYReXXGTKDexHLoa1ghAzD.jpg', 'release_date': '2015-09-12', 'title': 'Brothers', 'video': False, 'vote_average': 6.731, 'vote_count': 26}, {'adult': False, 'backdrop_path': None, 'genre_ids': [18], 'id': 91025, 'original_language': 'en', 'original_title': 'Brothers', 'overview': 'Thinly disguised account of the relationship between radical black activist Angela Davis and Black Panther and prison inmate George Jackson, who was one of those killed in a failed 1971 prison breakout.', 'popularity': 1.96, 'poster_path': '/62MVIMVvROhnUTgSWKMSPYg4MKy.jpg', 'release_date': '1977-03-31', 'title': 'Brothers', 'video': False, 'vote_average': 0.0, 'vote_count': 0}, {'adult': False, 'backdrop_path': None, 'genre_ids': [], 'id': 395306, 'original_language': 'en', 'original_title': 'Brothers', 'overview': 'A nigerian living in Germany visits his brother in Nigeria and disappears.', 'popularity': 1.525, 'poster_path': None, 'release_date': '2015-01-01', 'title': 'Brothers', 'video': False, 'vote_average': 0.0, 'vote_count': 0}, {'adult': False, 'backdrop_path': '/lerhGLQIxvXoWrYPSaK7fwhYZIt.jpg', 'genre_ids': [18], 'id': 748806, 'original_language': 'en', 'original_title': 'Brothers', 'overview': 'A Film by CZ Oster.  Andrew and Thomas Brumfield star as brothers navigating their complicated relationship. Fully improvised short shot entirely on iPhone.', 'popularity': 0.898, 'poster_path': '/aIuRKAomyCDP2p1navlXPYcw63A.jpg', 'release_date': '2020-08-24', 'title': 'Brothers', 'video': False, 'vote_average': 0.0, 'vote_count': 0}, {'adult': False, 'backdrop_path': None, 'genre_ids': [], 'id': 820925, 'original_language': 'en', 'original_title': 'Brothers', 'overview': \"Sixteen-year old Chris' dreary life takes a turn when a girl from out of town steps into his world, but his temperamental brother David is about to get them into trouble again.\", 'popularity': 1.4, 'poster_path': '/lV5zGpoPgSpesvPAL4VUOsE4TlX.jpg', 'release_date': '2015-09-29', 'title': 'Brothers', 'video': False, 'vote_average': 0.0, 'vote_count': 0}, {'adult': False, 'backdrop_path': None, 'genre_ids': [35], 'id': 616446, 'original_language': 'en', 'original_title': 'Brothers', 'overview': '', 'popularity': 0.96, 'poster_path': None, 'release_date': '', 'title': 'Brothers', 'video': False, 'vote_average': 0.0, 'vote_count': 0}, {'adult': False, 'backdrop_path': None, 'genre_ids': [10402, 18], 'id': 606073, 'original_language': 'xx', 'original_title': 'Brothers', 'overview': 'From childhood to adulthood, brothers Bilal and Nassim support each other no matter what.', 'popularity': 0.6, 'poster_path': '/95ewFbzvxskvVwyLPmK5BGxgyQv.jpg', 'release_date': '2018-09-18', 'title': 'Brothers', 'video': False, 'vote_average': 1.0, 'vote_count': 2}, {'adult': False, 'backdrop_path': None, 'genre_ids': [18], 'id': 513833, 'original_language': 'en', 'original_title': 'Brothers', 'overview': \"Young orphaned brothers Tom and Bob are separated when Bob is taken to an orphan asylum by the authorities and Tom escapes. As time goes by Tom takes to a life of crime, but uses the proceeds to contribute to Bob's education. Years later the brothers meet again when Tom tries to involve Bob in a con game--and neither one knows that the other is his brother. Complications ensue.\", 'popularity': 0.6, 'poster_path': '/A5UXu1VxYdHty0mtbpYIqDmGglt.jpg', 'release_date': '1931-05-18', 'title': 'Brothers', 'video': False, 'vote_average': 0.0, 'vote_count': 0}, {'adult': False, 'backdrop_path': None, 'genre_ids': [99, 18], 'id': 684637, 'original_language': 'en', 'original_title': 'Brothers', 'overview': \"A young man and filmmaker, Michael Norton, suffers from Duchenne Muscular Dystrophy, but is persevering through life's hardships with the help of his skateboarding brother, John Terrence Norton. However, John, trying to achieve his dream of becoming a pro-skateboarder, struggles due to his schizophrenia. Eventually taking his own life due to the overwhelming delusions and anxiety, John dies in December of 2016. Michael, coping with the tragedy alongside his other family members, decides to produce a film to honor the memory of his aspirational brother.\", 'popularity': 0.854, 'poster_path': None, 'release_date': '2019-11-15', 'title': 'Brothers', 'video': False, 'vote_average': 0.0, 'vote_count': 0}, {'adult': False, 'backdrop_path': None, 'genre_ids': [], 'id': 600431, 'original_language': 'en', 'original_title': 'Brothers', 'overview': 'Bob Naughton and Eddie Connolly are identical-twin brothers that were separated in infancy. Bob is raised by a rich lawyer, has all the advantages, but is a drunk with no moral character. Eddie is a pianist in a speak-easy but a man of high character. Bob commits a murder and Eddie is blamed and faces life in prison.', 'popularity': 0.841, 'poster_path': '/lrmhEXHRwmrfqJvEXLZDIX8LpQe.jpg', 'release_date': '1930-10-19', 'title': 'Brothers', 'video': False, 'vote_average': 0.0, 'vote_count': 0}, {'adult': False, 'backdrop_path': None, 'genre_ids': [18], 'id': 664610, 'original_language': 'en', 'original_title': 'Brothers', 'overview': \"A deadbeat alcoholic witnesses his brother's death; a man who had his whole life figured out. In a grieving mess, he seeks vengeance on the one who took it all away.\", 'popularity': 0.813, 'poster_path': '/1al1E0CVmJNnuTXNZZAf1d8dmCR.jpg', 'release_date': '2019-12-25', 'title': 'Brothers', 'video': False, 'vote_average': 0.0, 'vote_count': 0}, {'adult': False, 'backdrop_path': None, 'genre_ids': [18], 'id': 939126, 'original_language': 'en', 'original_title': 'Brothers', 'overview': \"His dumb grief was mistaken for indifference at his mother's death-bed, but it was the non-committal lady who learned the truth. The favorite son came to woo and win her. She made fine biscuits. In the end, as is quite apt to be the case, the lady gave up herself and her accomplishments in a way quite unexpected.\", 'popularity': 0.6, 'poster_path': None, 'release_date': '1913-02-03', 'title': 'Brothers', 'video': False, 'vote_average': 0.0, 'vote_count': 0}, {'adult': False, 'backdrop_path': None, 'genre_ids': [18], 'id': 936445, 'original_language': 'en', 'original_title': 'Brothers', 'overview': 'This subject deals first with a woman who has lost her husband. Her two boys are now her mainstay and support. These boys are aged respectively 6 and 8. They sell papers and give their earnings to their mother. The elder of the boys is inclined to be wild and one day be is arrested for craps playing and is sent to a reformatory.', 'popularity': 0.6, 'poster_path': None, 'release_date': '1912-04-24', 'title': 'Brothers', 'video': False, 'vote_average': 0.0, 'vote_count': 0}, {'adult': False, 'backdrop_path': None, 'genre_ids': [], 'id': 961003, 'original_language': 'en', 'original_title': 'Brothers', 'overview': 'A story about two young black men, Morris and David. Although they have known each other for years, the dynamics of their friendship is constantly questioned by society because of differences in sexuality.', 'popularity': 0.62, 'poster_path': '/2esyoQaeYs92LpKG4mAZNnC0WCj.jpg', 'release_date': '2021-08-08', 'title': 'Brothers', 'video': False, 'vote_average': 0.0, 'vote_count': 0}, {'adult': False, 'backdrop_path': None, 'genre_ids': [18, 35, 10749], 'id': 86281, 'original_language': 'en', 'original_title': 'Brothers', 'overview': 'Together in the hell holes of war worlds apart in a small town', 'popularity': 0.84, 'poster_path': '/sfWUbfP2iidREgVz6EwCUgB2W5h.jpg', 'release_date': '1982-01-01', 'title': 'Brothers', 'video': False, 'vote_average': 0.0, 'vote_count': 0}, {'adult': False, 'backdrop_path': None, 'genre_ids': [], 'id': 726963, 'original_language': 'en', 'original_title': 'Brothers', 'overview': 'Everyone\\'s \"larging\" it big time as a bunch of Brit boys work their way through Paros getting high, getting drunk and getting laid.', 'popularity': 0.87, 'poster_path': '/b4OAgDbE3HoBQQkH1gLizDgJAlD.jpg', 'release_date': '', 'title': 'Brothers', 'video': False, 'vote_average': 2.0, 'vote_count': 1}, {'adult': False, 'backdrop_path': None, 'genre_ids': [], 'id': 970451, 'original_language': 'fr', 'original_title': 'Brothers', 'overview': \"Damien and François decided to come out of the closet today but no one really believed them. Obviously, they didn't look gay enough.\", 'popularity': 0.847, 'poster_path': '/qOePClWLRPh79Wajs9IiS8Od8Wn.jpg', 'release_date': '2016-11-28', 'title': 'Brothers', 'video': False, 'vote_average': 0.0, 'vote_count': 0}, {'adult': False, 'backdrop_path': None, 'genre_ids': [], 'id': 762815, 'original_language': 'en', 'original_title': 'Brothers', 'overview': 'BROTHERS, is a story of friendship, betrayal and the fragility of mental health. Starring Michael Workeye and Jay Lycurgo, the film is inspired by the real life experience of Michael and his relationship with his older brother and his mental health issues that led to his suicide.', 'popularity': 0.86, 'poster_path': None, 'release_date': '2020-11-06', 'title': 'Brothers', 'video': False, 'vote_average': 0.0, 'vote_count': 0}]\n"
     ]
    }
   ],
   "source": [
    "print(response['results'])"
   ]
  },
  {
   "cell_type": "markdown",
   "metadata": {
    "id": "-JUw7uQXPCwF"
   },
   "source": [
    "# Data Extraction"
   ]
  },
  {
   "cell_type": "code",
   "execution_count": 92,
   "metadata": {
    "colab": {
     "base_uri": "https://localhost:8080/"
    },
    "id": "85QP3kpAPFga",
    "outputId": "d66ffe89-8130-4d19-8019-7d9d3afa9691"
   },
   "outputs": [
    {
     "data": {
      "text/plain": [
       "array([\"Madea's+Family+Reunion\", 'Krrish', 'End+of+the+Spear', ...,\n",
       "       'Ralph+Breaks+The+Internet', 'Mission:+Impossible—Fallout',\n",
       "       'Fantastic+Beasts:+The+Crimes+of+Grindelwald'], dtype=object)"
      ]
     },
     "execution_count": 92,
     "metadata": {},
     "output_type": "execute_result"
    }
   ],
   "source": [
    "movie_titles = md_df['movie_name'].unique()\n",
    "movie_titles"
   ]
  },
  {
   "cell_type": "markdown",
   "metadata": {
    "id": "sMWmElL8TD72"
   },
   "source": [
    "Features:\n",
    "\n",
    "- 22 Genres: Action, Adventure, Animation, Biography, Comedy, Crime, Documentary, Drama, Family, Fantasy, Film-Noir, History, Horror, Music, Musical, Mystery, Romance, Sci-Fi, Sport, Thriller, War, and Western (binary vector of length 22)\n",
    "\n",
    "- duration or running time (their analysis avg was 100min) https://developers.themoviedb.org/3/movies/get-movie-details\n",
    "\n",
    "- production budget\n",
    "\n",
    "- star value: number of likes for directos and top three performers in the cast\n",
    "  1. https://developers.themoviedb.org/3/movies/get-movie-credits (By popular)\n",
    "  2. https://developers.themoviedb.org/3/people/get-person-external-ids (Get fb id)\n",
    "  3. https://developers.facebook.com/docs/graph-api/reference/v16.0/object/likes \n",
    "\n",
    "- Number of movie reviews https://developers.themoviedb.org/3/movies/get-movie-reviews\n",
    "\n",
    "- Number of users who voted for a movie\n",
    "\n",
    "- Avg movie score (0-10)\n",
    "\n",
    "\n",
    "- Movie posters"
   ]
  },
  {
   "cell_type": "markdown",
   "metadata": {
    "id": "lNBciBA1ZnZ1"
   },
   "source": [
    "Potential way of getting 3k most popular movies https://developers.themoviedb.org/3/movies/get-top-rated-movies\n"
   ]
  },
  {
   "cell_type": "code",
   "execution_count": 93,
   "metadata": {
    "id": "7a42M6WwP8vM"
   },
   "outputs": [],
   "source": [
    "def get_movie_tmdb(movie_search):\n",
    "\n",
    "  try:\n",
    "    responses = requests.get(f\"https://api.themoviedb.org/3/search/movie?api_key={api_key_auth3}&query={movie_search['movie_name']}\")\n",
    "    responses = responses.json()['results']\n",
    "    \n",
    "    for response in responses:\n",
    "      if response['release_date'][0:4] ==  str(movie_search['production_year']):\n",
    "        return pd.json_normalize(response)\n",
    "\n",
    "    return pd.DataFrame()\n",
    "  except:\n",
    "    return pd.DataFrame()\n",
    "\n",
    "def get_movie_details(movie_search, resize = transforms.Resize(size=256)):\n",
    "  movie_tmdb_df = get_movie_tmdb(movie_search)\n",
    "\n",
    "  if movie_tmdb_df.empty == False:\n",
    "\n",
    "    addr = f\"https://image.tmdb.org/t/p/w500{str(movie_tmdb_df['poster_path'][0])}\"\n",
    "    #poster_resp = requests.get(addr, stream=True).raw\n",
    "    #poster = np.asarray(bytearray(poster_resp.read()), dtype=\"uint8\")\n",
    "    #movie_tmdb_df[\"poster\"] = [poster]\n",
    "    try:\n",
    "      img = resize(Image.fromarray(io.imread(addr), 'RGB'))\n",
    "\n",
    "    except:\n",
    "      return pd.DataFrame()\n",
    "    reshaped_arr_img = np.expand_dims(np.asarray(img), axis=0)\n",
    "    movie_tmdb_df[\"poster\"] = [reshaped_arr_img.tolist()]\n",
    "    \n",
    "    movie_id = movie_tmdb_df['id'][0]\n",
    "\n",
    "    duration_responses = requests.get(f\"https://api.themoviedb.org/3/movie/{movie_id}?api_key={api_key_auth3}&language=en-US\")\n",
    "    new_cols = pd.json_normalize(duration_responses.json())[['budget','revenue', 'runtime']]\n",
    "    movie_tmdb_df[['budget','revenue', 'runtime']] = new_cols\n",
    "\n",
    "    responses = requests.get(f\"https://api.themoviedb.org/3/movie/{movie_id}/reviews?api_key={api_key_auth3}&language=en-US&page=1\")\n",
    "    new_cols = pd.json_normalize(responses.json())[['total_pages', 'total_results']]\n",
    "    movie_tmdb_df[['total_pages', 'total_results']] = new_cols\n",
    "\n",
    "    return movie_tmdb_df\n",
    "\n",
    "  return pd.DataFrame()\n",
    "\n"
   ]
  },
  {
   "cell_type": "code",
   "execution_count": 93,
   "metadata": {
    "id": "piOUOp4sA4Wv"
   },
   "outputs": [],
   "source": []
  },
  {
   "cell_type": "code",
   "execution_count": 94,
   "metadata": {
    "id": "pG4nGX5vmiaZ"
   },
   "outputs": [],
   "source": [
    "transform = transforms.Resize(size=(150,150))\n",
    "tens = transforms.ToTensor()"
   ]
  },
  {
   "cell_type": "code",
   "execution_count": 95,
   "metadata": {
    "colab": {
     "base_uri": "https://localhost:8080/"
    },
    "id": "EqHlaoL-TK_t",
    "outputId": "9db8e702-124e-4b1e-bb26-8474331cc763"
   },
   "outputs": [
    {
     "data": {
      "text/plain": [
       "movie_name                  Mary+Poppins+Returns\n",
       "production_year                             2018\n",
       "production_budget                      130000000\n",
       "domestic_box_office                    171282866\n",
       "international_box_office               175400000\n",
       "genre                                    Musical\n",
       "running_time                               130.0\n",
       "Name: 1930, dtype: object"
      ]
     },
     "execution_count": 95,
     "metadata": {},
     "output_type": "execute_result"
    }
   ],
   "source": [
    "movie_search = md_df_2.iloc[1930]\n",
    "md_df_2.iloc[1930]"
   ]
  },
  {
   "cell_type": "code",
   "execution_count": 96,
   "metadata": {
    "colab": {
     "base_uri": "https://localhost:8080/"
    },
    "id": "bygmrdJCMUxV",
    "outputId": "a119e5c7-5ba0-4e7f-99f6-dbfe7750d973"
   },
   "outputs": [
    {
     "name": "stderr",
     "output_type": "stream",
     "text": [
      "<ipython-input-96-14c196ba3136>:2: FutureWarning: The frame.append method is deprecated and will be removed from pandas in a future version. Use pandas.concat instead.\n",
      "  movies_df = test.append(get_movie_details( md_df_2.iloc[1900], transform))\n"
     ]
    }
   ],
   "source": [
    "movies_df = get_movie_details(movie_search,transform)\n",
    "movies_df = test.append(get_movie_details( md_df_2.iloc[1900], transform))"
   ]
  },
  {
   "cell_type": "code",
   "execution_count": 97,
   "metadata": {
    "colab": {
     "base_uri": "https://localhost:8080/"
    },
    "id": "aJTemhP0Qxxe",
    "outputId": "6d2f2d67-4fb6-4ffb-8e87-0823d0a3d6dc"
   },
   "outputs": [
    {
     "name": "stderr",
     "output_type": "stream",
     "text": [
      "<ipython-input-97-a80159b8ed33>:5: FutureWarning: The frame.append method is deprecated and will be removed from pandas in a future version. Use pandas.concat instead.\n",
      "  movies_df = movies_df.append(movie_row)\n",
      "<ipython-input-97-a80159b8ed33>:5: FutureWarning: The frame.append method is deprecated and will be removed from pandas in a future version. Use pandas.concat instead.\n",
      "  movies_df = movies_df.append(movie_row)\n",
      "<ipython-input-97-a80159b8ed33>:5: FutureWarning: The frame.append method is deprecated and will be removed from pandas in a future version. Use pandas.concat instead.\n",
      "  movies_df = movies_df.append(movie_row)\n",
      "<ipython-input-97-a80159b8ed33>:5: FutureWarning: The frame.append method is deprecated and will be removed from pandas in a future version. Use pandas.concat instead.\n",
      "  movies_df = movies_df.append(movie_row)\n",
      "<ipython-input-97-a80159b8ed33>:5: FutureWarning: The frame.append method is deprecated and will be removed from pandas in a future version. Use pandas.concat instead.\n",
      "  movies_df = movies_df.append(movie_row)\n",
      "<ipython-input-97-a80159b8ed33>:5: FutureWarning: The frame.append method is deprecated and will be removed from pandas in a future version. Use pandas.concat instead.\n",
      "  movies_df = movies_df.append(movie_row)\n",
      "<ipython-input-97-a80159b8ed33>:5: FutureWarning: The frame.append method is deprecated and will be removed from pandas in a future version. Use pandas.concat instead.\n",
      "  movies_df = movies_df.append(movie_row)\n",
      "<ipython-input-97-a80159b8ed33>:5: FutureWarning: The frame.append method is deprecated and will be removed from pandas in a future version. Use pandas.concat instead.\n",
      "  movies_df = movies_df.append(movie_row)\n",
      "<ipython-input-97-a80159b8ed33>:5: FutureWarning: The frame.append method is deprecated and will be removed from pandas in a future version. Use pandas.concat instead.\n",
      "  movies_df = movies_df.append(movie_row)\n",
      "<ipython-input-97-a80159b8ed33>:5: FutureWarning: The frame.append method is deprecated and will be removed from pandas in a future version. Use pandas.concat instead.\n",
      "  movies_df = movies_df.append(movie_row)\n",
      "<ipython-input-97-a80159b8ed33>:5: FutureWarning: The frame.append method is deprecated and will be removed from pandas in a future version. Use pandas.concat instead.\n",
      "  movies_df = movies_df.append(movie_row)\n",
      "<ipython-input-97-a80159b8ed33>:5: FutureWarning: The frame.append method is deprecated and will be removed from pandas in a future version. Use pandas.concat instead.\n",
      "  movies_df = movies_df.append(movie_row)\n",
      "<ipython-input-97-a80159b8ed33>:5: FutureWarning: The frame.append method is deprecated and will be removed from pandas in a future version. Use pandas.concat instead.\n",
      "  movies_df = movies_df.append(movie_row)\n",
      "<ipython-input-97-a80159b8ed33>:5: FutureWarning: The frame.append method is deprecated and will be removed from pandas in a future version. Use pandas.concat instead.\n",
      "  movies_df = movies_df.append(movie_row)\n",
      "<ipython-input-97-a80159b8ed33>:5: FutureWarning: The frame.append method is deprecated and will be removed from pandas in a future version. Use pandas.concat instead.\n",
      "  movies_df = movies_df.append(movie_row)\n",
      "<ipython-input-97-a80159b8ed33>:5: FutureWarning: The frame.append method is deprecated and will be removed from pandas in a future version. Use pandas.concat instead.\n",
      "  movies_df = movies_df.append(movie_row)\n",
      "<ipython-input-97-a80159b8ed33>:5: FutureWarning: The frame.append method is deprecated and will be removed from pandas in a future version. Use pandas.concat instead.\n",
      "  movies_df = movies_df.append(movie_row)\n",
      "<ipython-input-97-a80159b8ed33>:5: FutureWarning: The frame.append method is deprecated and will be removed from pandas in a future version. Use pandas.concat instead.\n",
      "  movies_df = movies_df.append(movie_row)\n",
      "<ipython-input-97-a80159b8ed33>:5: FutureWarning: The frame.append method is deprecated and will be removed from pandas in a future version. Use pandas.concat instead.\n",
      "  movies_df = movies_df.append(movie_row)\n",
      "<ipython-input-97-a80159b8ed33>:5: FutureWarning: The frame.append method is deprecated and will be removed from pandas in a future version. Use pandas.concat instead.\n",
      "  movies_df = movies_df.append(movie_row)\n",
      "<ipython-input-97-a80159b8ed33>:5: FutureWarning: The frame.append method is deprecated and will be removed from pandas in a future version. Use pandas.concat instead.\n",
      "  movies_df = movies_df.append(movie_row)\n",
      "<ipython-input-97-a80159b8ed33>:5: FutureWarning: The frame.append method is deprecated and will be removed from pandas in a future version. Use pandas.concat instead.\n",
      "  movies_df = movies_df.append(movie_row)\n",
      "<ipython-input-97-a80159b8ed33>:5: FutureWarning: The frame.append method is deprecated and will be removed from pandas in a future version. Use pandas.concat instead.\n",
      "  movies_df = movies_df.append(movie_row)\n",
      "<ipython-input-97-a80159b8ed33>:5: FutureWarning: The frame.append method is deprecated and will be removed from pandas in a future version. Use pandas.concat instead.\n",
      "  movies_df = movies_df.append(movie_row)\n",
      "<ipython-input-97-a80159b8ed33>:5: FutureWarning: The frame.append method is deprecated and will be removed from pandas in a future version. Use pandas.concat instead.\n",
      "  movies_df = movies_df.append(movie_row)\n",
      "<ipython-input-97-a80159b8ed33>:5: FutureWarning: The frame.append method is deprecated and will be removed from pandas in a future version. Use pandas.concat instead.\n",
      "  movies_df = movies_df.append(movie_row)\n",
      "<ipython-input-97-a80159b8ed33>:5: FutureWarning: The frame.append method is deprecated and will be removed from pandas in a future version. Use pandas.concat instead.\n",
      "  movies_df = movies_df.append(movie_row)\n",
      "<ipython-input-97-a80159b8ed33>:5: FutureWarning: The frame.append method is deprecated and will be removed from pandas in a future version. Use pandas.concat instead.\n",
      "  movies_df = movies_df.append(movie_row)\n",
      "<ipython-input-97-a80159b8ed33>:5: FutureWarning: The frame.append method is deprecated and will be removed from pandas in a future version. Use pandas.concat instead.\n",
      "  movies_df = movies_df.append(movie_row)\n",
      "<ipython-input-97-a80159b8ed33>:5: FutureWarning: The frame.append method is deprecated and will be removed from pandas in a future version. Use pandas.concat instead.\n",
      "  movies_df = movies_df.append(movie_row)\n",
      "<ipython-input-97-a80159b8ed33>:5: FutureWarning: The frame.append method is deprecated and will be removed from pandas in a future version. Use pandas.concat instead.\n",
      "  movies_df = movies_df.append(movie_row)\n",
      "<ipython-input-97-a80159b8ed33>:5: FutureWarning: The frame.append method is deprecated and will be removed from pandas in a future version. Use pandas.concat instead.\n",
      "  movies_df = movies_df.append(movie_row)\n",
      "<ipython-input-97-a80159b8ed33>:5: FutureWarning: The frame.append method is deprecated and will be removed from pandas in a future version. Use pandas.concat instead.\n",
      "  movies_df = movies_df.append(movie_row)\n",
      "<ipython-input-97-a80159b8ed33>:5: FutureWarning: The frame.append method is deprecated and will be removed from pandas in a future version. Use pandas.concat instead.\n",
      "  movies_df = movies_df.append(movie_row)\n",
      "<ipython-input-97-a80159b8ed33>:5: FutureWarning: The frame.append method is deprecated and will be removed from pandas in a future version. Use pandas.concat instead.\n",
      "  movies_df = movies_df.append(movie_row)\n",
      "<ipython-input-97-a80159b8ed33>:5: FutureWarning: The frame.append method is deprecated and will be removed from pandas in a future version. Use pandas.concat instead.\n",
      "  movies_df = movies_df.append(movie_row)\n",
      "<ipython-input-97-a80159b8ed33>:5: FutureWarning: The frame.append method is deprecated and will be removed from pandas in a future version. Use pandas.concat instead.\n",
      "  movies_df = movies_df.append(movie_row)\n",
      "<ipython-input-97-a80159b8ed33>:5: FutureWarning: The frame.append method is deprecated and will be removed from pandas in a future version. Use pandas.concat instead.\n",
      "  movies_df = movies_df.append(movie_row)\n",
      "<ipython-input-97-a80159b8ed33>:5: FutureWarning: The frame.append method is deprecated and will be removed from pandas in a future version. Use pandas.concat instead.\n",
      "  movies_df = movies_df.append(movie_row)\n",
      "<ipython-input-97-a80159b8ed33>:5: FutureWarning: The frame.append method is deprecated and will be removed from pandas in a future version. Use pandas.concat instead.\n",
      "  movies_df = movies_df.append(movie_row)\n",
      "<ipython-input-97-a80159b8ed33>:5: FutureWarning: The frame.append method is deprecated and will be removed from pandas in a future version. Use pandas.concat instead.\n",
      "  movies_df = movies_df.append(movie_row)\n",
      "<ipython-input-97-a80159b8ed33>:5: FutureWarning: The frame.append method is deprecated and will be removed from pandas in a future version. Use pandas.concat instead.\n",
      "  movies_df = movies_df.append(movie_row)\n",
      "<ipython-input-97-a80159b8ed33>:5: FutureWarning: The frame.append method is deprecated and will be removed from pandas in a future version. Use pandas.concat instead.\n",
      "  movies_df = movies_df.append(movie_row)\n",
      "<ipython-input-97-a80159b8ed33>:5: FutureWarning: The frame.append method is deprecated and will be removed from pandas in a future version. Use pandas.concat instead.\n",
      "  movies_df = movies_df.append(movie_row)\n",
      "<ipython-input-97-a80159b8ed33>:5: FutureWarning: The frame.append method is deprecated and will be removed from pandas in a future version. Use pandas.concat instead.\n",
      "  movies_df = movies_df.append(movie_row)\n"
     ]
    }
   ],
   "source": [
    "for i in range(0,51):\n",
    "  movie_row = get_movie_details( md_df_2.iloc[i], transform)\n",
    "\n",
    "  if movie_row.empty == False:\n",
    "      movies_df = movies_df.append(movie_row)"
   ]
  },
  {
   "cell_type": "code",
   "execution_count": 98,
   "metadata": {
    "id": "OmxxH7q2QJ5w"
   },
   "outputs": [],
   "source": [
    "# Groups numerical revenue, currently 6 bins\n",
    "num = [0,1,2,3,4,5]\n",
    "\n",
    "revenue_in = pd.qcut(movies_df['revenue'], q=6, labels=num)\n",
    "\n",
    "enc = OneHotEncoder().fit(np.array(revenue_in).reshape(-1,1))\n",
    "df = pd.DataFrame(enc.transform(np.array(revenue_in).reshape(-1,1)).toarray())\n",
    "df['combine'] = df.values.tolist()\n",
    "movies_df['revenue_bin'] = df['combine']"
   ]
  },
  {
   "cell_type": "code",
   "execution_count": 99,
   "metadata": {
    "colab": {
     "base_uri": "https://localhost:8080/",
     "height": 303
    },
    "id": "gvIffNxnTn7r",
    "outputId": "e740ac44-51ab-4885-8ee2-a65373637e6d"
   },
   "outputs": [
    {
     "data": {
      "text/html": [
       "\n",
       "  <div id=\"df-1d8b8c23-2653-45fa-a6df-355e0489a709\">\n",
       "    <div class=\"colab-df-container\">\n",
       "      <div>\n",
       "<style scoped>\n",
       "    .dataframe tbody tr th:only-of-type {\n",
       "        vertical-align: middle;\n",
       "    }\n",
       "\n",
       "    .dataframe tbody tr th {\n",
       "        vertical-align: top;\n",
       "    }\n",
       "\n",
       "    .dataframe thead th {\n",
       "        text-align: right;\n",
       "    }\n",
       "</style>\n",
       "<table border=\"1\" class=\"dataframe\">\n",
       "  <thead>\n",
       "    <tr style=\"text-align: right;\">\n",
       "      <th></th>\n",
       "      <th>adult</th>\n",
       "      <th>backdrop_path</th>\n",
       "      <th>genre_ids</th>\n",
       "      <th>id</th>\n",
       "      <th>original_language</th>\n",
       "      <th>original_title</th>\n",
       "      <th>overview</th>\n",
       "      <th>popularity</th>\n",
       "      <th>poster_path</th>\n",
       "      <th>release_date</th>\n",
       "      <th>...</th>\n",
       "      <th>vote_average</th>\n",
       "      <th>vote_count</th>\n",
       "      <th>poster</th>\n",
       "      <th>budget</th>\n",
       "      <th>revenue</th>\n",
       "      <th>runtime</th>\n",
       "      <th>total_pages</th>\n",
       "      <th>total_results</th>\n",
       "      <th>revenue_bin</th>\n",
       "      <th>output</th>\n",
       "    </tr>\n",
       "  </thead>\n",
       "  <tbody>\n",
       "    <tr>\n",
       "      <th>0</th>\n",
       "      <td>False</td>\n",
       "      <td>/oGzToOBTRdXVOrHj8r0VgK3d2sU.jpg</td>\n",
       "      <td>[14, 10751, 35]</td>\n",
       "      <td>400650</td>\n",
       "      <td>en</td>\n",
       "      <td>Mary Poppins Returns</td>\n",
       "      <td>Mary Poppins returns to the Banks family and h...</td>\n",
       "      <td>23.865</td>\n",
       "      <td>/uTVGku4LibMGyKgQvjBtv3OYfAX.jpg</td>\n",
       "      <td>2018-12-13</td>\n",
       "      <td>...</td>\n",
       "      <td>6.52</td>\n",
       "      <td>3012</td>\n",
       "      <td>[[[[28, 117, 238], [29, 118, 236], [33, 123, 2...</td>\n",
       "      <td>130000000</td>\n",
       "      <td>348807090</td>\n",
       "      <td>131</td>\n",
       "      <td>1</td>\n",
       "      <td>2</td>\n",
       "      <td>[0.0, 0.0, 0.0, 0.0, 0.0, 1.0]</td>\n",
       "      <td>[1.0, 0.0, 0.0, 0.0, 0.0, 0.0]</td>\n",
       "    </tr>\n",
       "  </tbody>\n",
       "</table>\n",
       "<p>1 rows × 22 columns</p>\n",
       "</div>\n",
       "      <button class=\"colab-df-convert\" onclick=\"convertToInteractive('df-1d8b8c23-2653-45fa-a6df-355e0489a709')\"\n",
       "              title=\"Convert this dataframe to an interactive table.\"\n",
       "              style=\"display:none;\">\n",
       "        \n",
       "  <svg xmlns=\"http://www.w3.org/2000/svg\" height=\"24px\"viewBox=\"0 0 24 24\"\n",
       "       width=\"24px\">\n",
       "    <path d=\"M0 0h24v24H0V0z\" fill=\"none\"/>\n",
       "    <path d=\"M18.56 5.44l.94 2.06.94-2.06 2.06-.94-2.06-.94-.94-2.06-.94 2.06-2.06.94zm-11 1L8.5 8.5l.94-2.06 2.06-.94-2.06-.94L8.5 2.5l-.94 2.06-2.06.94zm10 10l.94 2.06.94-2.06 2.06-.94-2.06-.94-.94-2.06-.94 2.06-2.06.94z\"/><path d=\"M17.41 7.96l-1.37-1.37c-.4-.4-.92-.59-1.43-.59-.52 0-1.04.2-1.43.59L10.3 9.45l-7.72 7.72c-.78.78-.78 2.05 0 2.83L4 21.41c.39.39.9.59 1.41.59.51 0 1.02-.2 1.41-.59l7.78-7.78 2.81-2.81c.8-.78.8-2.07 0-2.86zM5.41 20L4 18.59l7.72-7.72 1.47 1.35L5.41 20z\"/>\n",
       "  </svg>\n",
       "      </button>\n",
       "      \n",
       "  <style>\n",
       "    .colab-df-container {\n",
       "      display:flex;\n",
       "      flex-wrap:wrap;\n",
       "      gap: 12px;\n",
       "    }\n",
       "\n",
       "    .colab-df-convert {\n",
       "      background-color: #E8F0FE;\n",
       "      border: none;\n",
       "      border-radius: 50%;\n",
       "      cursor: pointer;\n",
       "      display: none;\n",
       "      fill: #1967D2;\n",
       "      height: 32px;\n",
       "      padding: 0 0 0 0;\n",
       "      width: 32px;\n",
       "    }\n",
       "\n",
       "    .colab-df-convert:hover {\n",
       "      background-color: #E2EBFA;\n",
       "      box-shadow: 0px 1px 2px rgba(60, 64, 67, 0.3), 0px 1px 3px 1px rgba(60, 64, 67, 0.15);\n",
       "      fill: #174EA6;\n",
       "    }\n",
       "\n",
       "    [theme=dark] .colab-df-convert {\n",
       "      background-color: #3B4455;\n",
       "      fill: #D2E3FC;\n",
       "    }\n",
       "\n",
       "    [theme=dark] .colab-df-convert:hover {\n",
       "      background-color: #434B5C;\n",
       "      box-shadow: 0px 1px 3px 1px rgba(0, 0, 0, 0.15);\n",
       "      filter: drop-shadow(0px 1px 2px rgba(0, 0, 0, 0.3));\n",
       "      fill: #FFFFFF;\n",
       "    }\n",
       "  </style>\n",
       "\n",
       "      <script>\n",
       "        const buttonEl =\n",
       "          document.querySelector('#df-1d8b8c23-2653-45fa-a6df-355e0489a709 button.colab-df-convert');\n",
       "        buttonEl.style.display =\n",
       "          google.colab.kernel.accessAllowed ? 'block' : 'none';\n",
       "\n",
       "        async function convertToInteractive(key) {\n",
       "          const element = document.querySelector('#df-1d8b8c23-2653-45fa-a6df-355e0489a709');\n",
       "          const dataTable =\n",
       "            await google.colab.kernel.invokeFunction('convertToInteractive',\n",
       "                                                     [key], {});\n",
       "          if (!dataTable) return;\n",
       "\n",
       "          const docLinkHtml = 'Like what you see? Visit the ' +\n",
       "            '<a target=\"_blank\" href=https://colab.research.google.com/notebooks/data_table.ipynb>data table notebook</a>'\n",
       "            + ' to learn more about interactive tables.';\n",
       "          element.innerHTML = '';\n",
       "          dataTable['output_type'] = 'display_data';\n",
       "          await google.colab.output.renderOutput(dataTable, element);\n",
       "          const docLink = document.createElement('div');\n",
       "          docLink.innerHTML = docLinkHtml;\n",
       "          element.appendChild(docLink);\n",
       "        }\n",
       "      </script>\n",
       "    </div>\n",
       "  </div>\n",
       "  "
      ],
      "text/plain": [
       "   adult                     backdrop_path        genre_ids      id  \\\n",
       "0  False  /oGzToOBTRdXVOrHj8r0VgK3d2sU.jpg  [14, 10751, 35]  400650   \n",
       "\n",
       "  original_language        original_title  \\\n",
       "0                en  Mary Poppins Returns   \n",
       "\n",
       "                                            overview  popularity  \\\n",
       "0  Mary Poppins returns to the Banks family and h...      23.865   \n",
       "\n",
       "                        poster_path release_date  ... vote_average  \\\n",
       "0  /uTVGku4LibMGyKgQvjBtv3OYfAX.jpg   2018-12-13  ...         6.52   \n",
       "\n",
       "   vote_count                                             poster     budget  \\\n",
       "0        3012  [[[[28, 117, 238], [29, 118, 236], [33, 123, 2...  130000000   \n",
       "\n",
       "     revenue  runtime  total_pages  total_results  \\\n",
       "0  348807090      131            1              2   \n",
       "\n",
       "                      revenue_bin                          output  \n",
       "0  [0.0, 0.0, 0.0, 0.0, 0.0, 1.0]  [1.0, 0.0, 0.0, 0.0, 0.0, 0.0]  \n",
       "\n",
       "[1 rows x 22 columns]"
      ]
     },
     "execution_count": 99,
     "metadata": {},
     "output_type": "execute_result"
    }
   ],
   "source": [
    "movies_df.head(1)"
   ]
  },
  {
   "cell_type": "code",
   "execution_count": 100,
   "metadata": {
    "colab": {
     "base_uri": "https://localhost:8080/",
     "height": 167
    },
    "id": "xja43ZwVkWqj",
    "outputId": "b16e1ae0-4b85-411e-e568-6b781e4a993a"
   },
   "outputs": [
    {
     "data": {
      "image/png": "[encoded data removed]",
      "text/plain": [
       "<PIL.Image.Image image mode=RGB size=150x150 at 0x7FA773CD2370>"
      ]
     },
     "execution_count": 100,
     "metadata": {},
     "output_type": "execute_result"
    }
   ],
   "source": [
    "Image.fromarray(np.array(movies_df.iloc[0]['poster'][0]).astype(np.uint8))"
   ]
  },
  {
   "cell_type": "code",
   "execution_count": 101,
   "metadata": {
    "colab": {
     "base_uri": "https://localhost:8080/"
    },
    "id": "dXstbTlmDrKB",
    "outputId": "2b230dc7-b828-458a-caff-31abb4678164"
   },
   "outputs": [
    {
     "data": {
      "text/plain": [
       "torch.Size([93, 150, 150, 3])"
      ]
     },
     "execution_count": 101,
     "metadata": {},
     "output_type": "execute_result"
    }
   ],
   "source": [
    "torch.Tensor(np.vstack(movies_df['poster'].to_numpy())).shape"
   ]
  },
  {
   "cell_type": "markdown",
   "metadata": {
    "id": "VeN1HC9jtpUO"
   },
   "source": [
    "# DNN"
   ]
  },
  {
   "cell_type": "markdown",
   "metadata": {
    "id": "s1L_jlpu2rKG"
   },
   "source": [
    "## Dataset"
   ]
  },
  {
   "cell_type": "code",
   "execution_count": 102,
   "metadata": {
    "id": "zpUzxmil2tfn"
   },
   "outputs": [],
   "source": [
    "feature_df = movies_df"
   ]
  },
  {
   "cell_type": "code",
   "execution_count": 103,
   "metadata": {
    "id": "UxsnWQ9Wr0wu"
   },
   "outputs": [],
   "source": [
    "feature_df = feature_df.loc[feature_df.index.repeat(2)]"
   ]
  },
  {
   "cell_type": "code",
   "execution_count": 104,
   "metadata": {
    "colab": {
     "base_uri": "https://localhost:8080/"
    },
    "id": "j_J5jFt13KNi",
    "outputId": "dfc22b81-34af-4636-ce8c-c02286f76e57"
   },
   "outputs": [
    {
     "name": "stdout",
     "output_type": "stream",
     "text": [
      "Index(['adult', 'backdrop_path', 'genre_ids', 'id', 'original_language',\n",
      "       'original_title', 'overview', 'popularity', 'poster_path',\n",
      "       'release_date', 'title', 'video', 'vote_average', 'vote_count',\n",
      "       'poster', 'budget', 'revenue', 'runtime', 'total_pages',\n",
      "       'total_results', 'revenue_bin', 'output'],\n",
      "      dtype='object')\n"
     ]
    }
   ],
   "source": [
    "print(feature_df.columns)\n",
    "select_columns = ['popularity', 'budget', 'runtime', 'total_pages','total_results'] # 'genre_ids'\n",
    "output_val = 'revenue_bin'"
   ]
  },
  {
   "cell_type": "code",
   "execution_count": 105,
   "metadata": {
    "colab": {
     "base_uri": "https://localhost:8080/"
    },
    "id": "AcSBE69JuI-Q",
    "outputId": "e9ac6e69-94e1-4a76-e1b0-0e3147040c4f"
   },
   "outputs": [
    {
     "data": {
      "text/plain": [
       "tensor([[2.3865e+01, 1.3000e+08, 1.3100e+02, 1.0000e+00, 2.0000e+00],\n",
       "        [1.4684e+01, 1.6000e+07, 1.0000e+02, 1.0000e+00, 1.0000e+00],\n",
       "        [9.1040e+00, 6.0000e+06, 1.1000e+02, 0.0000e+00, 0.0000e+00],\n",
       "        ...,\n",
       "        [9.2720e+00, 2.0000e+07, 8.5000e+01, 0.0000e+00, 0.0000e+00],\n",
       "        [1.7990e+01, 9.0000e+06, 8.5000e+01, 1.0000e+00, 1.0000e+00],\n",
       "        [7.0020e+00, 2.0000e+07, 1.2300e+02, 0.0000e+00, 0.0000e+00]])"
      ]
     },
     "execution_count": 105,
     "metadata": {},
     "output_type": "execute_result"
    }
   ],
   "source": [
    "features_torch = torch.tensor(feature_df[select_columns].values).to(torch.float32)\n",
    "features_torch #need to include genre which needs to be reshaped"
   ]
  },
  {
   "cell_type": "code",
   "execution_count": 106,
   "metadata": {
    "colab": {
     "base_uri": "https://localhost:8080/"
    },
    "id": "hTDMLNRBvBpa",
    "outputId": "764eeb2e-d291-49b0-f911-d6545eaf7fd5"
   },
   "outputs": [
    {
     "data": {
      "text/plain": [
       "tensor([[0., 0., 0., 0., 0., 1.],\n",
       "        [0., 0., 0., 0., 0., 1.],\n",
       "        [0., 0., 0., 0., 0., 1.],\n",
       "        ...,\n",
       "        [0., 0., 0., 0., 0., 1.],\n",
       "        [0., 0., 0., 0., 0., 1.],\n",
       "        [0., 0., 0., 0., 0., 1.]])"
      ]
     },
     "execution_count": 106,
     "metadata": {},
     "output_type": "execute_result"
    }
   ],
   "source": [
    "output_torch = torch.Tensor(np.vstack(feature_df[output_val].to_numpy()))\n",
    "output_torch"
   ]
  },
  {
   "cell_type": "code",
   "execution_count": 107,
   "metadata": {
    "id": "uhiFsIPgxECL"
   },
   "outputs": [],
   "source": [
    "class FeatureDataset(Dataset):\n",
    "    def __init__(self, features, labels, device):\n",
    "        self.features = torch.tensor(features).to(torch.float32).to(device)\n",
    "        self.labels = torch.Tensor(np.vstack(labels.to_numpy())) #torch.tensor(labels.astype('int32')).to(torch.float32).to(device)\n",
    "        \n",
    "        #self.num = torch.tensor(num).to(torch.float32).to(device)\n",
    "\n",
    "    def __len__(self):\n",
    "        return self.labels.shape[0]\n",
    "\n",
    "    def __getitem__(self, idx):\n",
    "        features = self.features[idx]\n",
    "        label = self.labels[idx]\n",
    "        #rev = self.num[idx]\n",
    "        '''\n",
    "        if self.transform:\n",
    "            image = self.transform(image)\n",
    "        if self.target_transform:\n",
    "            label = self.target_transform(label)\n",
    "        '''\n",
    "        return features, label#, rev"
   ]
  },
  {
   "cell_type": "markdown",
   "metadata": {
    "id": "qqXUnmGS2rRj"
   },
   "source": [
    "## Model"
   ]
  },
  {
   "cell_type": "code",
   "execution_count": 108,
   "metadata": {
    "id": "PiCb9GaB1u4P"
   },
   "outputs": [],
   "source": [
    "from torchsummary import summary"
   ]
  },
  {
   "cell_type": "code",
   "execution_count": 109,
   "metadata": {
    "id": "jRl_bI6I0h4O"
   },
   "outputs": [],
   "source": [
    "input_dim = 6 - 1 #31?\n",
    "num_features = input_dim\n",
    "output_dim = 6\n",
    "learn_rate_classification=5e-3\n",
    "learn_rate_regression=5e-5"
   ]
  },
  {
   "cell_type": "markdown",
   "metadata": {
    "id": "3_5BzhR8Rh4l"
   },
   "source": []
  },
  {
   "cell_type": "code",
   "execution_count": 110,
   "metadata": {
    "id": "oamUeQuEtosV"
   },
   "outputs": [],
   "source": [
    "class DNN(nn.Module):\n",
    "    def __init__(self, input_dim, num_features, output_dim = 6, dropout = 0.6):\n",
    "\n",
    "        unit_1 = 72\n",
    "        unit_2 = 128\n",
    "        unit_3 = 256\n",
    "\n",
    "\n",
    "        super().__init__()\n",
    "        self.input_layer = nn.Linear(input_dim, num_features)\n",
    "\n",
    "        self.layers = nn.Sequential(\n",
    "            nn.Linear(num_features, unit_1),\n",
    "            nn.ReLU(inplace=False),   \n",
    "            nn.Dropout(p=dropout),\n",
    "\n",
    "            nn.Linear(unit_1, unit_2),\n",
    "            nn.ReLU(inplace=False),   \n",
    "            nn.Dropout(p=dropout),\n",
    "\n",
    "            nn.Linear(unit_2, unit_3),\n",
    "            nn.ReLU(inplace=False),   \n",
    "            nn.Dropout(p=dropout),\n",
    "\n",
    "            nn.Linear(unit_3, unit_2),\n",
    "            nn.ReLU(inplace=False),   \n",
    "            nn.Dropout(p=dropout),\n",
    "\n",
    "            nn.Linear(unit_2, unit_1),\n",
    "            nn.ReLU(inplace=False),   \n",
    "            nn.Dropout(p=dropout)\n",
    "        )\n",
    "\n",
    "        self.output_layer = nn.Sequential(\n",
    "            nn.Linear(unit_1, output_dim),\n",
    "            nn.Softmax(dim=-1)\n",
    "        )\n",
    "        \n",
    "    def forward(self, features):\n",
    "        x = self.input_layer(features)\n",
    "        x = self.layers(x)\n",
    "        x = self.output_layer(x)\n",
    "\n",
    "        return x"
   ]
  },
  {
   "cell_type": "code",
   "execution_count": 111,
   "metadata": {
    "id": "3NPL2sWhtovB"
   },
   "outputs": [],
   "source": [
    "device = \"cpu\" #torch.device(\"cuda\" if torch.cuda.is_available() else \"cpu\") # PyTorch v0.4.0\n",
    "test_DNN = DNN(input_dim, num_features, output_dim).to(device)\n",
    "features_torch = features_torch.to(device)"
   ]
  },
  {
   "cell_type": "code",
   "execution_count": 112,
   "metadata": {
    "id": "jXug0df3NTpU"
   },
   "outputs": [],
   "source": [
    "batch_size = 50\n",
    "\n",
    "train_dataset = FeatureDataset(feature_df[select_columns].values, feature_df[output_val], device)\n",
    "trainloader = torch.utils.data.DataLoader(train_dataset, batch_size=batch_size,\n",
    "                                          shuffle=True)\n",
    "\n",
    "\n",
    "criterion_classification = nn.CrossEntropyLoss()\n",
    "criterion_regression = nn.MSELoss()\n",
    "optimizer_classification = torch.optim.Adam(test_DNN.parameters(), lr=learn_rate_classification)\n",
    "optimizer_regression = torch.optim.Adam(test_DNN.parameters(), lr=learn_rate_regression)"
   ]
  },
  {
   "cell_type": "code",
   "execution_count": 115,
   "metadata": {
    "colab": {
     "base_uri": "https://localhost:8080/"
    },
    "id": "14VkhYCQQbsI",
    "outputId": "2eaf21e1-dec2-45f2-8e36-b22d73811963"
   },
   "outputs": [
    {
     "data": {
      "text/plain": [
       "(tensor([1.4684e+01, 1.6000e+07, 1.0000e+02, 1.0000e+00, 1.0000e+00]),\n",
       " tensor([0., 0., 0., 0., 0., 1.]))"
      ]
     },
     "execution_count": 115,
     "metadata": {},
     "output_type": "execute_result"
    }
   ],
   "source": [
    "train_dataset.__getitem__(1) # Checking output"
   ]
  },
  {
   "cell_type": "code",
   "execution_count": 113,
   "metadata": {
    "id": "hA3BPFcNHSyU"
   },
   "outputs": [],
   "source": [
    "def accuracies(pred, label):\n",
    "  num = label.shape[0]\n",
    "  aphr_bingo = torch.sum(torch.all(pred.eq(label), dim = -1))/num\n",
    "\n",
    "  zero_col = torch.zeros(size = [1,label.shape[-1]])\n",
    "\n",
    "  shift_next = torch.roll(label, 1, -1)\n",
    "  shift_next[:0] = zero_col\n",
    "\n",
    "  shift_prev = torch.roll(label, -1, -1)\n",
    "  shift_prev[:-1] = zero_col\n",
    "\n",
    "  next_1 = torch.sum(torch.all(pred.eq(shift_next), dim = -1))\n",
    "  prev_1 = torch.sum(torch.all(pred.eq(shift_prev), dim = -1))\n",
    "\n",
    "\n",
    "  aphr_1_away = aphr_bingo + next_1/num + prev_1/num\n",
    "\n",
    "  return aphr_bingo, aphr_1_away"
   ]
  },
  {
   "cell_type": "code",
   "execution_count": 116,
   "metadata": {
    "colab": {
     "base_uri": "https://localhost:8080/"
    },
    "id": "66zc5GzDLlE9",
    "outputId": "23461a30-3df3-45bd-a018-dcd6e1796689"
   },
   "outputs": [
    {
     "name": "stdout",
     "output_type": "stream",
     "text": [
      "[1,     5] loss: 0.004\n",
      "[1,     5] aphr_bingo: 0.800 aphr_1_away: 0.860\n",
      "[1,    10] loss: 0.003\n",
      "[1,    10] aphr_bingo: 0.860 aphr_1_away: 0.860\n",
      "[1,    15] loss: 0.003\n",
      "[1,    15] aphr_bingo: 0.920 aphr_1_away: 0.920\n",
      "[1,    20] loss: 0.003\n",
      "[1,    20] aphr_bingo: 0.960 aphr_1_away: 0.960\n",
      "[1,    25] loss: 0.003\n",
      "[1,    25] aphr_bingo: 0.980 aphr_1_away: 0.980\n",
      "[1,    30] loss: 0.003\n",
      "[1,    30] aphr_bingo: 0.960 aphr_1_away: 0.960\n",
      "[1,    35] loss: 0.003\n",
      "[1,    35] aphr_bingo: 0.960 aphr_1_away: 0.960\n",
      "[1,    40] loss: 0.003\n",
      "[1,    40] aphr_bingo: 0.980 aphr_1_away: 0.980\n",
      "[1,    45] loss: 0.003\n",
      "[1,    45] aphr_bingo: 0.900 aphr_1_away: 0.900\n",
      "[1,    50] loss: 0.003\n",
      "[1,    50] aphr_bingo: 0.980 aphr_1_away: 0.980\n",
      "[1,    55] loss: 0.003\n",
      "[1,    55] aphr_bingo: 0.960 aphr_1_away: 0.960\n",
      "[1,    60] loss: 0.003\n",
      "[1,    60] aphr_bingo: 0.980 aphr_1_away: 0.980\n",
      "[1,    65] loss: 0.003\n",
      "[1,    65] aphr_bingo: 0.960 aphr_1_away: 0.960\n",
      "[1,    70] loss: 0.003\n",
      "[1,    70] aphr_bingo: 0.960 aphr_1_away: 0.960\n",
      "[1,    75] loss: 0.003\n",
      "[1,    75] aphr_bingo: 0.980 aphr_1_away: 0.980\n",
      "[1,    80] loss: 0.003\n",
      "[1,    80] aphr_bingo: 0.980 aphr_1_away: 0.980\n",
      "[1,    85] loss: 0.003\n",
      "[1,    85] aphr_bingo: 1.000 aphr_1_away: 1.000\n",
      "[1,    90] loss: 0.003\n",
      "[1,    90] aphr_bingo: 1.000 aphr_1_away: 1.000\n",
      "[1,    95] loss: 0.003\n",
      "[1,    95] aphr_bingo: 0.980 aphr_1_away: 0.980\n",
      "[1,   100] loss: 0.003\n",
      "[1,   100] aphr_bingo: 0.960 aphr_1_away: 0.960\n",
      "[1,   105] loss: 0.003\n",
      "[1,   105] aphr_bingo: 0.980 aphr_1_away: 0.980\n",
      "[1,   110] loss: 0.003\n",
      "[1,   110] aphr_bingo: 0.980 aphr_1_away: 0.980\n",
      "[1,   115] loss: 0.003\n",
      "[1,   115] aphr_bingo: 0.980 aphr_1_away: 0.980\n",
      "[1,   120] loss: 0.003\n",
      "[1,   120] aphr_bingo: 0.980 aphr_1_away: 0.980\n",
      "[1,   125] loss: 0.003\n",
      "[1,   125] aphr_bingo: 0.960 aphr_1_away: 0.960\n",
      "[1,   130] loss: 0.003\n",
      "[1,   130] aphr_bingo: 1.000 aphr_1_away: 1.000\n",
      "[1,   135] loss: 0.003\n",
      "[1,   135] aphr_bingo: 0.980 aphr_1_away: 0.980\n",
      "[1,   140] loss: 0.003\n",
      "[1,   140] aphr_bingo: 1.000 aphr_1_away: 1.000\n",
      "[1,   145] loss: 0.003\n",
      "[1,   145] aphr_bingo: 0.960 aphr_1_away: 0.960\n",
      "[1,   150] loss: 0.003\n",
      "[1,   150] aphr_bingo: 0.940 aphr_1_away: 0.940\n",
      "[1,   155] loss: 0.003\n",
      "[1,   155] aphr_bingo: 0.960 aphr_1_away: 0.960\n",
      "[1,   160] loss: 0.003\n",
      "[1,   160] aphr_bingo: 1.000 aphr_1_away: 1.000\n",
      "[1,   165] loss: 0.003\n",
      "[1,   165] aphr_bingo: 0.960 aphr_1_away: 0.960\n",
      "[1,   170] loss: 0.003\n",
      "[1,   170] aphr_bingo: 0.920 aphr_1_away: 0.920\n",
      "[1,   175] loss: 0.003\n",
      "[1,   175] aphr_bingo: 1.000 aphr_1_away: 1.000\n",
      "[1,   180] loss: 0.003\n",
      "[1,   180] aphr_bingo: 0.960 aphr_1_away: 0.960\n",
      "[1,   185] loss: 0.003\n",
      "[1,   185] aphr_bingo: 0.980 aphr_1_away: 0.980\n",
      "[1,   190] loss: 0.003\n",
      "[1,   190] aphr_bingo: 0.980 aphr_1_away: 0.980\n",
      "[1,   195] loss: 0.003\n",
      "[1,   195] aphr_bingo: 0.940 aphr_1_away: 0.940\n",
      "[1,   200] loss: 0.003\n",
      "[1,   200] aphr_bingo: 0.940 aphr_1_away: 0.940\n",
      "[1,   205] loss: 0.003\n",
      "[1,   205] aphr_bingo: 0.980 aphr_1_away: 0.980\n",
      "[1,   210] loss: 0.003\n",
      "[1,   210] aphr_bingo: 1.000 aphr_1_away: 1.000\n",
      "[1,   215] loss: 0.003\n",
      "[1,   215] aphr_bingo: 0.980 aphr_1_away: 0.980\n",
      "[1,   220] loss: 0.003\n",
      "[1,   220] aphr_bingo: 0.980 aphr_1_away: 0.980\n",
      "[1,   225] loss: 0.003\n",
      "[1,   225] aphr_bingo: 0.980 aphr_1_away: 0.980\n",
      "[1,   230] loss: 0.003\n",
      "[1,   230] aphr_bingo: 1.000 aphr_1_away: 1.000\n",
      "[1,   235] loss: 0.003\n",
      "[1,   235] aphr_bingo: 0.940 aphr_1_away: 0.940\n",
      "[1,   240] loss: 0.003\n",
      "[1,   240] aphr_bingo: 0.960 aphr_1_away: 0.960\n",
      "[1,   245] loss: 0.003\n",
      "[1,   245] aphr_bingo: 0.980 aphr_1_away: 0.980\n",
      "[1,   250] loss: 0.003\n",
      "[1,   250] aphr_bingo: 0.980 aphr_1_away: 0.980\n",
      "[1,   255] loss: 0.003\n",
      "[1,   255] aphr_bingo: 0.900 aphr_1_away: 0.900\n",
      "[1,   260] loss: 0.003\n",
      "[1,   260] aphr_bingo: 1.000 aphr_1_away: 1.000\n",
      "[1,   265] loss: 0.003\n",
      "[1,   265] aphr_bingo: 0.980 aphr_1_away: 0.980\n",
      "[1,   270] loss: 0.003\n",
      "[1,   270] aphr_bingo: 0.960 aphr_1_away: 0.960\n",
      "[1,   275] loss: 0.003\n",
      "[1,   275] aphr_bingo: 1.000 aphr_1_away: 1.000\n",
      "[1,   280] loss: 0.003\n",
      "[1,   280] aphr_bingo: 0.980 aphr_1_away: 0.980\n",
      "[1,   285] loss: 0.003\n",
      "[1,   285] aphr_bingo: 0.980 aphr_1_away: 0.980\n",
      "[1,   290] loss: 0.003\n",
      "[1,   290] aphr_bingo: 1.000 aphr_1_away: 1.000\n",
      "[1,   295] loss: 0.003\n",
      "[1,   295] aphr_bingo: 0.980 aphr_1_away: 0.980\n",
      "[1,   300] loss: 0.003\n",
      "[1,   300] aphr_bingo: 1.000 aphr_1_away: 1.000\n",
      "[1,   305] loss: 0.003\n",
      "[1,   305] aphr_bingo: 0.960 aphr_1_away: 0.960\n",
      "[1,   310] loss: 0.003\n",
      "[1,   310] aphr_bingo: 0.980 aphr_1_away: 0.980\n",
      "[1,   315] loss: 0.003\n",
      "[1,   315] aphr_bingo: 1.000 aphr_1_away: 1.000\n",
      "[1,   320] loss: 0.003\n",
      "[1,   320] aphr_bingo: 0.980 aphr_1_away: 0.980\n",
      "[1,   325] loss: 0.003\n",
      "[1,   325] aphr_bingo: 0.940 aphr_1_away: 0.940\n",
      "[1,   330] loss: 0.003\n",
      "[1,   330] aphr_bingo: 0.980 aphr_1_away: 0.980\n",
      "[1,   335] loss: 0.003\n",
      "[1,   335] aphr_bingo: 0.960 aphr_1_away: 0.960\n",
      "[1,   340] loss: 0.003\n",
      "[1,   340] aphr_bingo: 0.980 aphr_1_away: 0.980\n",
      "[1,   345] loss: 0.003\n",
      "[1,   345] aphr_bingo: 0.980 aphr_1_away: 0.980\n",
      "[2,     5] loss: 0.003\n",
      "[2,     5] aphr_bingo: 0.980 aphr_1_away: 0.980\n",
      "[2,    10] loss: 0.003\n",
      "[2,    10] aphr_bingo: 0.960 aphr_1_away: 0.960\n",
      "[2,    15] loss: 0.003\n",
      "[2,    15] aphr_bingo: 0.980 aphr_1_away: 0.980\n",
      "[2,    20] loss: 0.003\n",
      "[2,    20] aphr_bingo: 0.960 aphr_1_away: 0.960\n",
      "[2,    25] loss: 0.003\n",
      "[2,    25] aphr_bingo: 0.980 aphr_1_away: 0.980\n",
      "[2,    30] loss: 0.003\n",
      "[2,    30] aphr_bingo: 0.980 aphr_1_away: 0.980\n",
      "[2,    35] loss: 0.003\n",
      "[2,    35] aphr_bingo: 0.980 aphr_1_away: 0.980\n",
      "[2,    40] loss: 0.003\n",
      "[2,    40] aphr_bingo: 0.980 aphr_1_away: 0.980\n",
      "[2,    45] loss: 0.003\n",
      "[2,    45] aphr_bingo: 0.980 aphr_1_away: 0.980\n",
      "[2,    50] loss: 0.003\n",
      "[2,    50] aphr_bingo: 0.980 aphr_1_away: 0.980\n",
      "[2,    55] loss: 0.003\n",
      "[2,    55] aphr_bingo: 0.980 aphr_1_away: 0.980\n",
      "[2,    60] loss: 0.003\n",
      "[2,    60] aphr_bingo: 0.960 aphr_1_away: 0.960\n",
      "[2,    65] loss: 0.003\n",
      "[2,    65] aphr_bingo: 0.960 aphr_1_away: 0.960\n",
      "[2,    70] loss: 0.003\n",
      "[2,    70] aphr_bingo: 0.960 aphr_1_away: 0.960\n",
      "[2,    75] loss: 0.003\n",
      "[2,    75] aphr_bingo: 0.980 aphr_1_away: 0.980\n",
      "[2,    80] loss: 0.003\n",
      "[2,    80] aphr_bingo: 0.980 aphr_1_away: 0.980\n",
      "[2,    85] loss: 0.003\n",
      "[2,    85] aphr_bingo: 0.960 aphr_1_away: 0.960\n",
      "[2,    90] loss: 0.003\n",
      "[2,    90] aphr_bingo: 0.920 aphr_1_away: 0.920\n",
      "[2,    95] loss: 0.003\n",
      "[2,    95] aphr_bingo: 1.000 aphr_1_away: 1.000\n",
      "[2,   100] loss: 0.003\n",
      "[2,   100] aphr_bingo: 0.940 aphr_1_away: 0.940\n",
      "[2,   105] loss: 0.003\n",
      "[2,   105] aphr_bingo: 1.000 aphr_1_away: 1.000\n",
      "[2,   110] loss: 0.003\n",
      "[2,   110] aphr_bingo: 0.960 aphr_1_away: 0.960\n",
      "[2,   115] loss: 0.003\n",
      "[2,   115] aphr_bingo: 1.000 aphr_1_away: 1.000\n",
      "[2,   120] loss: 0.003\n",
      "[2,   120] aphr_bingo: 0.960 aphr_1_away: 0.960\n",
      "[2,   125] loss: 0.003\n",
      "[2,   125] aphr_bingo: 1.000 aphr_1_away: 1.000\n",
      "[2,   130] loss: 0.003\n",
      "[2,   130] aphr_bingo: 0.980 aphr_1_away: 0.980\n",
      "[2,   135] loss: 0.003\n",
      "[2,   135] aphr_bingo: 0.940 aphr_1_away: 0.940\n",
      "[2,   140] loss: 0.003\n",
      "[2,   140] aphr_bingo: 1.000 aphr_1_away: 1.000\n",
      "[2,   145] loss: 0.003\n",
      "[2,   145] aphr_bingo: 1.000 aphr_1_away: 1.000\n",
      "[2,   150] loss: 0.003\n",
      "[2,   150] aphr_bingo: 0.980 aphr_1_away: 0.980\n",
      "[2,   155] loss: 0.003\n",
      "[2,   155] aphr_bingo: 0.980 aphr_1_away: 0.980\n",
      "[2,   160] loss: 0.003\n",
      "[2,   160] aphr_bingo: 0.960 aphr_1_away: 0.960\n",
      "[2,   165] loss: 0.003\n",
      "[2,   165] aphr_bingo: 0.920 aphr_1_away: 0.920\n",
      "[2,   170] loss: 0.003\n",
      "[2,   170] aphr_bingo: 0.980 aphr_1_away: 0.980\n",
      "[2,   175] loss: 0.003\n",
      "[2,   175] aphr_bingo: 0.980 aphr_1_away: 0.980\n",
      "[2,   180] loss: 0.003\n",
      "[2,   180] aphr_bingo: 0.960 aphr_1_away: 0.960\n",
      "[2,   185] loss: 0.003\n",
      "[2,   185] aphr_bingo: 1.000 aphr_1_away: 1.000\n",
      "[2,   190] loss: 0.003\n",
      "[2,   190] aphr_bingo: 0.980 aphr_1_away: 0.980\n",
      "[2,   195] loss: 0.003\n",
      "[2,   195] aphr_bingo: 0.980 aphr_1_away: 0.980\n",
      "[2,   200] loss: 0.003\n",
      "[2,   200] aphr_bingo: 1.000 aphr_1_away: 1.000\n",
      "[2,   205] loss: 0.003\n",
      "[2,   205] aphr_bingo: 0.960 aphr_1_away: 0.960\n",
      "[2,   210] loss: 0.003\n",
      "[2,   210] aphr_bingo: 0.980 aphr_1_away: 0.980\n",
      "[2,   215] loss: 0.003\n",
      "[2,   215] aphr_bingo: 0.980 aphr_1_away: 0.980\n",
      "[2,   220] loss: 0.003\n",
      "[2,   220] aphr_bingo: 1.000 aphr_1_away: 1.000\n",
      "[2,   225] loss: 0.003\n",
      "[2,   225] aphr_bingo: 0.980 aphr_1_away: 0.980\n",
      "[2,   230] loss: 0.003\n",
      "[2,   230] aphr_bingo: 0.940 aphr_1_away: 0.940\n",
      "[2,   235] loss: 0.003\n",
      "[2,   235] aphr_bingo: 1.000 aphr_1_away: 1.000\n",
      "[2,   240] loss: 0.003\n",
      "[2,   240] aphr_bingo: 1.000 aphr_1_away: 1.000\n",
      "[2,   245] loss: 0.003\n",
      "[2,   245] aphr_bingo: 0.980 aphr_1_away: 0.980\n",
      "[2,   250] loss: 0.003\n",
      "[2,   250] aphr_bingo: 0.980 aphr_1_away: 0.980\n",
      "[2,   255] loss: 0.003\n",
      "[2,   255] aphr_bingo: 0.980 aphr_1_away: 0.980\n",
      "[2,   260] loss: 0.003\n",
      "[2,   260] aphr_bingo: 1.000 aphr_1_away: 1.000\n",
      "[2,   265] loss: 0.003\n",
      "[2,   265] aphr_bingo: 0.960 aphr_1_away: 0.960\n",
      "[2,   270] loss: 0.003\n",
      "[2,   270] aphr_bingo: 1.000 aphr_1_away: 1.000\n",
      "[2,   275] loss: 0.003\n",
      "[2,   275] aphr_bingo: 0.980 aphr_1_away: 0.980\n",
      "[2,   280] loss: 0.003\n",
      "[2,   280] aphr_bingo: 0.960 aphr_1_away: 0.960\n",
      "[2,   285] loss: 0.003\n",
      "[2,   285] aphr_bingo: 0.980 aphr_1_away: 0.980\n",
      "[2,   290] loss: 0.003\n",
      "[2,   290] aphr_bingo: 1.000 aphr_1_away: 1.000\n",
      "[2,   295] loss: 0.003\n",
      "[2,   295] aphr_bingo: 0.920 aphr_1_away: 0.920\n",
      "[2,   300] loss: 0.003\n",
      "[2,   300] aphr_bingo: 0.960 aphr_1_away: 0.960\n",
      "[2,   305] loss: 0.003\n",
      "[2,   305] aphr_bingo: 0.960 aphr_1_away: 0.960\n",
      "[2,   310] loss: 0.003\n",
      "[2,   310] aphr_bingo: 0.980 aphr_1_away: 0.980\n",
      "[2,   315] loss: 0.003\n",
      "[2,   315] aphr_bingo: 0.980 aphr_1_away: 0.980\n",
      "[2,   320] loss: 0.003\n",
      "[2,   320] aphr_bingo: 0.980 aphr_1_away: 0.980\n",
      "[2,   325] loss: 0.003\n",
      "[2,   325] aphr_bingo: 0.960 aphr_1_away: 0.960\n",
      "[2,   330] loss: 0.003\n",
      "[2,   330] aphr_bingo: 1.000 aphr_1_away: 1.000\n",
      "[2,   335] loss: 0.003\n",
      "[2,   335] aphr_bingo: 0.980 aphr_1_away: 0.980\n",
      "[2,   340] loss: 0.003\n",
      "[2,   340] aphr_bingo: 0.980 aphr_1_away: 0.980\n",
      "[2,   345] loss: 0.003\n",
      "[2,   345] aphr_bingo: 1.000 aphr_1_away: 1.000\n",
      "[3,     5] loss: 0.003\n",
      "[3,     5] aphr_bingo: 0.940 aphr_1_away: 0.940\n",
      "[3,    10] loss: 0.003\n",
      "[3,    10] aphr_bingo: 0.980 aphr_1_away: 0.980\n",
      "[3,    15] loss: 0.003\n",
      "[3,    15] aphr_bingo: 0.980 aphr_1_away: 0.980\n",
      "[3,    20] loss: 0.003\n",
      "[3,    20] aphr_bingo: 0.960 aphr_1_away: 0.960\n",
      "[3,    25] loss: 0.003\n",
      "[3,    25] aphr_bingo: 0.960 aphr_1_away: 0.960\n",
      "[3,    30] loss: 0.003\n",
      "[3,    30] aphr_bingo: 0.980 aphr_1_away: 0.980\n",
      "[3,    35] loss: 0.003\n",
      "[3,    35] aphr_bingo: 0.980 aphr_1_away: 0.980\n",
      "[3,    40] loss: 0.003\n",
      "[3,    40] aphr_bingo: 0.980 aphr_1_away: 0.980\n",
      "[3,    45] loss: 0.003\n",
      "[3,    45] aphr_bingo: 1.000 aphr_1_away: 1.000\n",
      "[3,    50] loss: 0.003\n",
      "[3,    50] aphr_bingo: 1.000 aphr_1_away: 1.000\n",
      "[3,    55] loss: 0.003\n",
      "[3,    55] aphr_bingo: 1.000 aphr_1_away: 1.000\n",
      "[3,    60] loss: 0.003\n",
      "[3,    60] aphr_bingo: 0.960 aphr_1_away: 0.960\n",
      "[3,    65] loss: 0.003\n",
      "[3,    65] aphr_bingo: 0.960 aphr_1_away: 0.960\n",
      "[3,    70] loss: 0.003\n",
      "[3,    70] aphr_bingo: 1.000 aphr_1_away: 1.000\n",
      "[3,    75] loss: 0.003\n",
      "[3,    75] aphr_bingo: 1.000 aphr_1_away: 1.000\n",
      "[3,    80] loss: 0.003\n",
      "[3,    80] aphr_bingo: 0.980 aphr_1_away: 0.980\n",
      "[3,    85] loss: 0.003\n",
      "[3,    85] aphr_bingo: 0.940 aphr_1_away: 0.940\n",
      "[3,    90] loss: 0.003\n",
      "[3,    90] aphr_bingo: 0.940 aphr_1_away: 0.940\n",
      "[3,    95] loss: 0.003\n",
      "[3,    95] aphr_bingo: 0.980 aphr_1_away: 0.980\n",
      "[3,   100] loss: 0.003\n",
      "[3,   100] aphr_bingo: 0.980 aphr_1_away: 0.980\n",
      "[3,   105] loss: 0.003\n",
      "[3,   105] aphr_bingo: 0.960 aphr_1_away: 0.960\n",
      "[3,   110] loss: 0.003\n",
      "[3,   110] aphr_bingo: 0.980 aphr_1_away: 0.980\n",
      "[3,   115] loss: 0.003\n",
      "[3,   115] aphr_bingo: 0.960 aphr_1_away: 0.960\n",
      "[3,   120] loss: 0.003\n",
      "[3,   120] aphr_bingo: 0.980 aphr_1_away: 0.980\n",
      "[3,   125] loss: 0.003\n",
      "[3,   125] aphr_bingo: 0.980 aphr_1_away: 0.980\n",
      "[3,   130] loss: 0.003\n",
      "[3,   130] aphr_bingo: 1.000 aphr_1_away: 1.000\n",
      "[3,   135] loss: 0.003\n",
      "[3,   135] aphr_bingo: 0.980 aphr_1_away: 0.980\n",
      "[3,   140] loss: 0.003\n",
      "[3,   140] aphr_bingo: 0.980 aphr_1_away: 0.980\n",
      "[3,   145] loss: 0.003\n",
      "[3,   145] aphr_bingo: 1.000 aphr_1_away: 1.000\n",
      "[3,   150] loss: 0.003\n",
      "[3,   150] aphr_bingo: 1.000 aphr_1_away: 1.000\n",
      "[3,   155] loss: 0.003\n",
      "[3,   155] aphr_bingo: 1.000 aphr_1_away: 1.000\n",
      "[3,   160] loss: 0.003\n",
      "[3,   160] aphr_bingo: 1.000 aphr_1_away: 1.000\n",
      "[3,   165] loss: 0.003\n",
      "[3,   165] aphr_bingo: 0.980 aphr_1_away: 0.980\n",
      "[3,   170] loss: 0.003\n",
      "[3,   170] aphr_bingo: 1.000 aphr_1_away: 1.000\n",
      "[3,   175] loss: 0.003\n",
      "[3,   175] aphr_bingo: 0.980 aphr_1_away: 0.980\n",
      "[3,   180] loss: 0.003\n",
      "[3,   180] aphr_bingo: 1.000 aphr_1_away: 1.000\n",
      "[3,   185] loss: 0.003\n",
      "[3,   185] aphr_bingo: 0.960 aphr_1_away: 0.960\n",
      "[3,   190] loss: 0.003\n",
      "[3,   190] aphr_bingo: 0.980 aphr_1_away: 0.980\n",
      "[3,   195] loss: 0.003\n",
      "[3,   195] aphr_bingo: 1.000 aphr_1_away: 1.000\n",
      "[3,   200] loss: 0.003\n",
      "[3,   200] aphr_bingo: 1.000 aphr_1_away: 1.000\n",
      "[3,   205] loss: 0.003\n",
      "[3,   205] aphr_bingo: 0.940 aphr_1_away: 0.940\n",
      "[3,   210] loss: 0.003\n",
      "[3,   210] aphr_bingo: 1.000 aphr_1_away: 1.000\n",
      "[3,   215] loss: 0.003\n",
      "[3,   215] aphr_bingo: 1.000 aphr_1_away: 1.000\n",
      "[3,   220] loss: 0.003\n",
      "[3,   220] aphr_bingo: 1.000 aphr_1_away: 1.000\n",
      "[3,   225] loss: 0.003\n",
      "[3,   225] aphr_bingo: 0.980 aphr_1_away: 0.980\n",
      "[3,   230] loss: 0.003\n",
      "[3,   230] aphr_bingo: 0.980 aphr_1_away: 0.980\n",
      "[3,   235] loss: 0.003\n",
      "[3,   235] aphr_bingo: 0.960 aphr_1_away: 0.960\n",
      "[3,   240] loss: 0.003\n",
      "[3,   240] aphr_bingo: 1.000 aphr_1_away: 1.000\n",
      "[3,   245] loss: 0.003\n",
      "[3,   245] aphr_bingo: 1.000 aphr_1_away: 1.000\n",
      "[3,   250] loss: 0.003\n",
      "[3,   250] aphr_bingo: 0.940 aphr_1_away: 0.940\n",
      "[3,   255] loss: 0.003\n",
      "[3,   255] aphr_bingo: 1.000 aphr_1_away: 1.000\n",
      "[3,   260] loss: 0.003\n",
      "[3,   260] aphr_bingo: 1.000 aphr_1_away: 1.000\n",
      "[3,   265] loss: 0.003\n",
      "[3,   265] aphr_bingo: 0.940 aphr_1_away: 0.940\n",
      "[3,   270] loss: 0.003\n",
      "[3,   270] aphr_bingo: 0.980 aphr_1_away: 0.980\n",
      "[3,   275] loss: 0.003\n",
      "[3,   275] aphr_bingo: 0.960 aphr_1_away: 0.960\n",
      "[3,   280] loss: 0.003\n",
      "[3,   280] aphr_bingo: 1.000 aphr_1_away: 1.000\n",
      "[3,   285] loss: 0.003\n",
      "[3,   285] aphr_bingo: 1.000 aphr_1_away: 1.000\n",
      "[3,   290] loss: 0.003\n",
      "[3,   290] aphr_bingo: 0.960 aphr_1_away: 0.960\n",
      "[3,   295] loss: 0.003\n",
      "[3,   295] aphr_bingo: 1.000 aphr_1_away: 1.000\n",
      "[3,   300] loss: 0.003\n",
      "[3,   300] aphr_bingo: 0.960 aphr_1_away: 0.960\n",
      "[3,   305] loss: 0.003\n",
      "[3,   305] aphr_bingo: 1.000 aphr_1_away: 1.000\n",
      "[3,   310] loss: 0.003\n",
      "[3,   310] aphr_bingo: 0.980 aphr_1_away: 0.980\n",
      "[3,   315] loss: 0.003\n",
      "[3,   315] aphr_bingo: 0.960 aphr_1_away: 0.960\n",
      "[3,   320] loss: 0.003\n",
      "[3,   320] aphr_bingo: 1.000 aphr_1_away: 1.000\n",
      "[3,   325] loss: 0.003\n",
      "[3,   325] aphr_bingo: 1.000 aphr_1_away: 1.000\n",
      "[3,   330] loss: 0.003\n",
      "[3,   330] aphr_bingo: 0.980 aphr_1_away: 0.980\n",
      "[3,   335] loss: 0.003\n",
      "[3,   335] aphr_bingo: 0.980 aphr_1_away: 0.980\n",
      "[3,   340] loss: 0.003\n",
      "[3,   340] aphr_bingo: 1.000 aphr_1_away: 1.000\n",
      "[3,   345] loss: 0.003\n",
      "[3,   345] aphr_bingo: 1.000 aphr_1_away: 1.000\n",
      "[4,     5] loss: 0.003\n",
      "[4,     5] aphr_bingo: 1.000 aphr_1_away: 1.000\n",
      "[4,    10] loss: 0.003\n",
      "[4,    10] aphr_bingo: 1.000 aphr_1_away: 1.000\n",
      "[4,    15] loss: 0.003\n",
      "[4,    15] aphr_bingo: 1.000 aphr_1_away: 1.000\n",
      "[4,    20] loss: 0.003\n",
      "[4,    20] aphr_bingo: 1.000 aphr_1_away: 1.000\n",
      "[4,    25] loss: 0.003\n",
      "[4,    25] aphr_bingo: 1.000 aphr_1_away: 1.000\n",
      "[4,    30] loss: 0.003\n",
      "[4,    30] aphr_bingo: 0.960 aphr_1_away: 0.960\n",
      "[4,    35] loss: 0.003\n",
      "[4,    35] aphr_bingo: 1.000 aphr_1_away: 1.000\n",
      "[4,    40] loss: 0.003\n",
      "[4,    40] aphr_bingo: 0.980 aphr_1_away: 0.980\n",
      "[4,    45] loss: 0.003\n",
      "[4,    45] aphr_bingo: 0.940 aphr_1_away: 0.940\n",
      "[4,    50] loss: 0.003\n",
      "[4,    50] aphr_bingo: 1.000 aphr_1_away: 1.000\n",
      "[4,    55] loss: 0.003\n",
      "[4,    55] aphr_bingo: 0.960 aphr_1_away: 0.960\n",
      "[4,    60] loss: 0.003\n",
      "[4,    60] aphr_bingo: 0.980 aphr_1_away: 0.980\n",
      "[4,    65] loss: 0.003\n",
      "[4,    65] aphr_bingo: 0.980 aphr_1_away: 0.980\n",
      "[4,    70] loss: 0.003\n",
      "[4,    70] aphr_bingo: 0.980 aphr_1_away: 0.980\n",
      "[4,    75] loss: 0.003\n",
      "[4,    75] aphr_bingo: 0.980 aphr_1_away: 0.980\n",
      "[4,    80] loss: 0.003\n",
      "[4,    80] aphr_bingo: 0.960 aphr_1_away: 0.960\n",
      "[4,    85] loss: 0.003\n",
      "[4,    85] aphr_bingo: 0.960 aphr_1_away: 0.960\n",
      "[4,    90] loss: 0.003\n",
      "[4,    90] aphr_bingo: 0.980 aphr_1_away: 0.980\n",
      "[4,    95] loss: 0.003\n",
      "[4,    95] aphr_bingo: 0.980 aphr_1_away: 0.980\n",
      "[4,   100] loss: 0.003\n",
      "[4,   100] aphr_bingo: 0.960 aphr_1_away: 0.960\n",
      "[4,   105] loss: 0.003\n",
      "[4,   105] aphr_bingo: 0.980 aphr_1_away: 0.980\n",
      "[4,   110] loss: 0.003\n",
      "[4,   110] aphr_bingo: 0.980 aphr_1_away: 0.980\n",
      "[4,   115] loss: 0.003\n",
      "[4,   115] aphr_bingo: 0.980 aphr_1_away: 0.980\n",
      "[4,   120] loss: 0.003\n",
      "[4,   120] aphr_bingo: 1.000 aphr_1_away: 1.000\n",
      "[4,   125] loss: 0.003\n",
      "[4,   125] aphr_bingo: 0.980 aphr_1_away: 0.980\n",
      "[4,   130] loss: 0.003\n",
      "[4,   130] aphr_bingo: 0.980 aphr_1_away: 0.980\n",
      "[4,   135] loss: 0.003\n",
      "[4,   135] aphr_bingo: 0.980 aphr_1_away: 0.980\n",
      "[4,   140] loss: 0.003\n",
      "[4,   140] aphr_bingo: 1.000 aphr_1_away: 1.000\n",
      "[4,   145] loss: 0.003\n",
      "[4,   145] aphr_bingo: 1.000 aphr_1_away: 1.000\n",
      "[4,   150] loss: 0.003\n",
      "[4,   150] aphr_bingo: 0.940 aphr_1_away: 0.940\n",
      "[4,   155] loss: 0.003\n",
      "[4,   155] aphr_bingo: 0.980 aphr_1_away: 0.980\n",
      "[4,   160] loss: 0.003\n",
      "[4,   160] aphr_bingo: 0.980 aphr_1_away: 0.980\n",
      "[4,   165] loss: 0.003\n",
      "[4,   165] aphr_bingo: 0.980 aphr_1_away: 0.980\n",
      "[4,   170] loss: 0.003\n",
      "[4,   170] aphr_bingo: 1.000 aphr_1_away: 1.000\n",
      "[4,   175] loss: 0.003\n",
      "[4,   175] aphr_bingo: 1.000 aphr_1_away: 1.000\n",
      "[4,   180] loss: 0.003\n",
      "[4,   180] aphr_bingo: 1.000 aphr_1_away: 1.000\n",
      "[4,   185] loss: 0.003\n",
      "[4,   185] aphr_bingo: 0.980 aphr_1_away: 0.980\n",
      "[4,   190] loss: 0.003\n",
      "[4,   190] aphr_bingo: 1.000 aphr_1_away: 1.000\n",
      "[4,   195] loss: 0.003\n",
      "[4,   195] aphr_bingo: 1.000 aphr_1_away: 1.000\n",
      "[4,   200] loss: 0.003\n",
      "[4,   200] aphr_bingo: 1.000 aphr_1_away: 1.000\n",
      "[4,   205] loss: 0.003\n",
      "[4,   205] aphr_bingo: 0.940 aphr_1_away: 0.940\n",
      "[4,   210] loss: 0.003\n",
      "[4,   210] aphr_bingo: 0.980 aphr_1_away: 0.980\n",
      "[4,   215] loss: 0.003\n",
      "[4,   215] aphr_bingo: 1.000 aphr_1_away: 1.000\n",
      "[4,   220] loss: 0.003\n",
      "[4,   220] aphr_bingo: 1.000 aphr_1_away: 1.000\n",
      "[4,   225] loss: 0.003\n",
      "[4,   225] aphr_bingo: 0.980 aphr_1_away: 0.980\n",
      "[4,   230] loss: 0.003\n",
      "[4,   230] aphr_bingo: 1.000 aphr_1_away: 1.000\n",
      "[4,   235] loss: 0.003\n",
      "[4,   235] aphr_bingo: 1.000 aphr_1_away: 1.000\n",
      "[4,   240] loss: 0.003\n",
      "[4,   240] aphr_bingo: 1.000 aphr_1_away: 1.000\n",
      "[4,   245] loss: 0.003\n",
      "[4,   245] aphr_bingo: 0.980 aphr_1_away: 0.980\n",
      "[4,   250] loss: 0.003\n",
      "[4,   250] aphr_bingo: 1.000 aphr_1_away: 1.000\n",
      "[4,   255] loss: 0.003\n",
      "[4,   255] aphr_bingo: 0.980 aphr_1_away: 0.980\n",
      "[4,   260] loss: 0.003\n",
      "[4,   260] aphr_bingo: 0.980 aphr_1_away: 0.980\n",
      "[4,   265] loss: 0.003\n",
      "[4,   265] aphr_bingo: 0.980 aphr_1_away: 0.980\n",
      "[4,   270] loss: 0.003\n",
      "[4,   270] aphr_bingo: 0.960 aphr_1_away: 0.960\n",
      "[4,   275] loss: 0.003\n",
      "[4,   275] aphr_bingo: 1.000 aphr_1_away: 1.000\n",
      "[4,   280] loss: 0.003\n",
      "[4,   280] aphr_bingo: 1.000 aphr_1_away: 1.000\n",
      "[4,   285] loss: 0.003\n",
      "[4,   285] aphr_bingo: 0.960 aphr_1_away: 0.960\n",
      "[4,   290] loss: 0.003\n",
      "[4,   290] aphr_bingo: 1.000 aphr_1_away: 1.000\n",
      "[4,   295] loss: 0.003\n",
      "[4,   295] aphr_bingo: 0.960 aphr_1_away: 0.960\n",
      "[4,   300] loss: 0.003\n",
      "[4,   300] aphr_bingo: 0.980 aphr_1_away: 0.980\n",
      "[4,   305] loss: 0.003\n",
      "[4,   305] aphr_bingo: 0.980 aphr_1_away: 0.980\n",
      "[4,   310] loss: 0.003\n",
      "[4,   310] aphr_bingo: 1.000 aphr_1_away: 1.000\n",
      "[4,   315] loss: 0.003\n",
      "[4,   315] aphr_bingo: 1.000 aphr_1_away: 1.000\n",
      "[4,   320] loss: 0.003\n",
      "[4,   320] aphr_bingo: 0.960 aphr_1_away: 0.960\n",
      "[4,   325] loss: 0.003\n",
      "[4,   325] aphr_bingo: 0.960 aphr_1_away: 0.960\n",
      "[4,   330] loss: 0.003\n",
      "[4,   330] aphr_bingo: 1.000 aphr_1_away: 1.000\n",
      "[4,   335] loss: 0.003\n",
      "[4,   335] aphr_bingo: 1.000 aphr_1_away: 1.000\n",
      "[4,   340] loss: 0.003\n",
      "[4,   340] aphr_bingo: 1.000 aphr_1_away: 1.000\n",
      "[4,   345] loss: 0.003\n",
      "[4,   345] aphr_bingo: 0.980 aphr_1_away: 0.980\n",
      "[5,     5] loss: 0.003\n",
      "[5,     5] aphr_bingo: 0.960 aphr_1_away: 0.960\n",
      "[5,    10] loss: 0.003\n",
      "[5,    10] aphr_bingo: 1.000 aphr_1_away: 1.000\n",
      "[5,    15] loss: 0.003\n",
      "[5,    15] aphr_bingo: 0.980 aphr_1_away: 0.980\n",
      "[5,    20] loss: 0.003\n",
      "[5,    20] aphr_bingo: 1.000 aphr_1_away: 1.000\n",
      "[5,    25] loss: 0.003\n",
      "[5,    25] aphr_bingo: 0.980 aphr_1_away: 0.980\n",
      "[5,    30] loss: 0.003\n",
      "[5,    30] aphr_bingo: 0.980 aphr_1_away: 0.980\n",
      "[5,    35] loss: 0.003\n",
      "[5,    35] aphr_bingo: 1.000 aphr_1_away: 1.000\n",
      "[5,    40] loss: 0.003\n",
      "[5,    40] aphr_bingo: 0.960 aphr_1_away: 0.960\n",
      "[5,    45] loss: 0.003\n",
      "[5,    45] aphr_bingo: 0.960 aphr_1_away: 0.960\n",
      "[5,    50] loss: 0.003\n",
      "[5,    50] aphr_bingo: 1.000 aphr_1_away: 1.000\n",
      "[5,    55] loss: 0.003\n",
      "[5,    55] aphr_bingo: 1.000 aphr_1_away: 1.000\n",
      "[5,    60] loss: 0.003\n",
      "[5,    60] aphr_bingo: 1.000 aphr_1_away: 1.000\n",
      "[5,    65] loss: 0.003\n",
      "[5,    65] aphr_bingo: 0.980 aphr_1_away: 0.980\n",
      "[5,    70] loss: 0.003\n",
      "[5,    70] aphr_bingo: 0.980 aphr_1_away: 0.980\n",
      "[5,    75] loss: 0.003\n",
      "[5,    75] aphr_bingo: 0.980 aphr_1_away: 0.980\n",
      "[5,    80] loss: 0.003\n",
      "[5,    80] aphr_bingo: 0.960 aphr_1_away: 0.960\n",
      "[5,    85] loss: 0.003\n",
      "[5,    85] aphr_bingo: 1.000 aphr_1_away: 1.000\n",
      "[5,    90] loss: 0.003\n",
      "[5,    90] aphr_bingo: 0.980 aphr_1_away: 0.980\n",
      "[5,    95] loss: 0.003\n",
      "[5,    95] aphr_bingo: 0.980 aphr_1_away: 0.980\n",
      "[5,   100] loss: 0.003\n",
      "[5,   100] aphr_bingo: 0.940 aphr_1_away: 0.940\n",
      "[5,   105] loss: 0.003\n",
      "[5,   105] aphr_bingo: 1.000 aphr_1_away: 1.000\n",
      "[5,   110] loss: 0.003\n",
      "[5,   110] aphr_bingo: 0.940 aphr_1_away: 0.940\n",
      "[5,   115] loss: 0.003\n",
      "[5,   115] aphr_bingo: 1.000 aphr_1_away: 1.000\n",
      "[5,   120] loss: 0.003\n",
      "[5,   120] aphr_bingo: 0.980 aphr_1_away: 0.980\n",
      "[5,   125] loss: 0.003\n",
      "[5,   125] aphr_bingo: 1.000 aphr_1_away: 1.000\n",
      "[5,   130] loss: 0.003\n",
      "[5,   130] aphr_bingo: 1.000 aphr_1_away: 1.000\n",
      "[5,   135] loss: 0.003\n",
      "[5,   135] aphr_bingo: 1.000 aphr_1_away: 1.000\n",
      "[5,   140] loss: 0.003\n",
      "[5,   140] aphr_bingo: 0.980 aphr_1_away: 0.980\n",
      "[5,   145] loss: 0.003\n",
      "[5,   145] aphr_bingo: 0.980 aphr_1_away: 0.980\n",
      "[5,   150] loss: 0.003\n",
      "[5,   150] aphr_bingo: 0.960 aphr_1_away: 0.960\n",
      "[5,   155] loss: 0.003\n",
      "[5,   155] aphr_bingo: 1.000 aphr_1_away: 1.000\n",
      "[5,   160] loss: 0.003\n",
      "[5,   160] aphr_bingo: 0.960 aphr_1_away: 0.960\n",
      "[5,   165] loss: 0.003\n",
      "[5,   165] aphr_bingo: 1.000 aphr_1_away: 1.000\n",
      "[5,   170] loss: 0.003\n",
      "[5,   170] aphr_bingo: 0.960 aphr_1_away: 0.960\n",
      "[5,   175] loss: 0.003\n",
      "[5,   175] aphr_bingo: 1.000 aphr_1_away: 1.000\n",
      "[5,   180] loss: 0.003\n",
      "[5,   180] aphr_bingo: 0.960 aphr_1_away: 0.960\n",
      "[5,   185] loss: 0.003\n",
      "[5,   185] aphr_bingo: 1.000 aphr_1_away: 1.000\n",
      "[5,   190] loss: 0.003\n",
      "[5,   190] aphr_bingo: 0.980 aphr_1_away: 0.980\n",
      "[5,   195] loss: 0.003\n",
      "[5,   195] aphr_bingo: 1.000 aphr_1_away: 1.000\n",
      "[5,   200] loss: 0.003\n",
      "[5,   200] aphr_bingo: 0.980 aphr_1_away: 0.980\n",
      "[5,   205] loss: 0.003\n",
      "[5,   205] aphr_bingo: 0.980 aphr_1_away: 0.980\n",
      "[5,   210] loss: 0.003\n",
      "[5,   210] aphr_bingo: 0.980 aphr_1_away: 0.980\n",
      "[5,   215] loss: 0.003\n",
      "[5,   215] aphr_bingo: 0.980 aphr_1_away: 0.980\n",
      "[5,   220] loss: 0.003\n",
      "[5,   220] aphr_bingo: 1.000 aphr_1_away: 1.000\n",
      "[5,   225] loss: 0.003\n",
      "[5,   225] aphr_bingo: 0.960 aphr_1_away: 0.960\n",
      "[5,   230] loss: 0.003\n",
      "[5,   230] aphr_bingo: 1.000 aphr_1_away: 1.000\n",
      "[5,   235] loss: 0.003\n",
      "[5,   235] aphr_bingo: 0.980 aphr_1_away: 0.980\n",
      "[5,   240] loss: 0.003\n",
      "[5,   240] aphr_bingo: 1.000 aphr_1_away: 1.000\n",
      "[5,   245] loss: 0.003\n",
      "[5,   245] aphr_bingo: 0.980 aphr_1_away: 0.980\n",
      "[5,   250] loss: 0.003\n",
      "[5,   250] aphr_bingo: 0.980 aphr_1_away: 0.980\n",
      "[5,   255] loss: 0.003\n",
      "[5,   255] aphr_bingo: 0.980 aphr_1_away: 0.980\n",
      "[5,   260] loss: 0.003\n",
      "[5,   260] aphr_bingo: 0.960 aphr_1_away: 0.960\n",
      "[5,   265] loss: 0.003\n",
      "[5,   265] aphr_bingo: 0.980 aphr_1_away: 0.980\n",
      "[5,   270] loss: 0.003\n",
      "[5,   270] aphr_bingo: 0.920 aphr_1_away: 0.920\n",
      "[5,   275] loss: 0.003\n",
      "[5,   275] aphr_bingo: 1.000 aphr_1_away: 1.000\n",
      "[5,   280] loss: 0.003\n",
      "[5,   280] aphr_bingo: 1.000 aphr_1_away: 1.000\n",
      "[5,   285] loss: 0.003\n",
      "[5,   285] aphr_bingo: 0.980 aphr_1_away: 0.980\n",
      "[5,   290] loss: 0.003\n",
      "[5,   290] aphr_bingo: 1.000 aphr_1_away: 1.000\n",
      "[5,   295] loss: 0.003\n",
      "[5,   295] aphr_bingo: 1.000 aphr_1_away: 1.000\n",
      "[5,   300] loss: 0.003\n",
      "[5,   300] aphr_bingo: 1.000 aphr_1_away: 1.000\n",
      "[5,   305] loss: 0.003\n",
      "[5,   305] aphr_bingo: 1.000 aphr_1_away: 1.000\n",
      "[5,   310] loss: 0.003\n",
      "[5,   310] aphr_bingo: 0.980 aphr_1_away: 0.980\n",
      "[5,   315] loss: 0.003\n",
      "[5,   315] aphr_bingo: 0.960 aphr_1_away: 0.960\n",
      "[5,   320] loss: 0.003\n",
      "[5,   320] aphr_bingo: 0.980 aphr_1_away: 0.980\n",
      "[5,   325] loss: 0.003\n",
      "[5,   325] aphr_bingo: 1.000 aphr_1_away: 1.000\n",
      "[5,   330] loss: 0.003\n",
      "[5,   330] aphr_bingo: 0.980 aphr_1_away: 0.980\n",
      "[5,   335] loss: 0.003\n",
      "[5,   335] aphr_bingo: 1.000 aphr_1_away: 1.000\n",
      "[5,   340] loss: 0.003\n",
      "[5,   340] aphr_bingo: 0.980 aphr_1_away: 0.980\n",
      "[5,   345] loss: 0.003\n",
      "[5,   345] aphr_bingo: 0.960 aphr_1_away: 0.960\n",
      "Finished Training\n"
     ]
    }
   ],
   "source": [
    "acc_aphr_bingo = np.array([])\n",
    "acc_aphr_1_away = np.array([])\n",
    "\n",
    "for epoch in range(5):  # loop over the dataset multiple times\n",
    "\n",
    "    running_loss = 0.0\n",
    "    for i, data in enumerate(trainloader, 0):\n",
    "        # get the inputs; data is a list of [inputs, labels]\n",
    "        inputs, labels = data\n",
    "        #print(data)\n",
    "\n",
    "        # zero the parameter gradients\n",
    "        optimizer_classification.zero_grad()\n",
    "\n",
    "        # forward + backward + optimize\n",
    "        outputs = test_DNN(inputs)\n",
    "        #print(labels, outputs)\n",
    "        loss = criterion_classification(outputs, labels)\n",
    "        #outputs_detach = outputs.detach()\n",
    "        #outputs_detach.requires_grad = True\n",
    "        loss.backward(retain_graph=True)\n",
    "        optimizer_classification.step()\n",
    "\n",
    "        # # zero the parameter gradients\n",
    "        # optimizer_regression.zero_grad()\n",
    "\n",
    "        # # forward + backward + optimize\n",
    "        # loss = criterion_regression(outputs, rev)\n",
    "        # loss.backward()\n",
    "        # optimizer_regression.step()\n",
    "\n",
    "        aphr_bingo, aphr_1_away = accuracies(outputs, labels)\n",
    "\n",
    "        # print statistics\n",
    "        running_loss += loss.item()\n",
    "        if i % 5 == 4:    # print every 5 mini-batches\n",
    "            print(f'[{epoch + 1}, {i + 1:5d}] loss: {running_loss / 2000:.3f}')\n",
    "            print(f'[{epoch + 1}, {i + 1:5d}] aphr_bingo: {aphr_bingo:.3f} aphr_1_away: {aphr_1_away:.3f}')\n",
    "            running_loss = 0.0\n",
    "            acc_aphr_bingo = np.append(acc_aphr_bingo, aphr_bingo)\n",
    "            acc_aphr_1_away = np.append(acc_aphr_1_away, aphr_1_away)\n",
    "        \n",
    "\n",
    "print('Finished Training')"
   ]
  },
  {
   "cell_type": "markdown",
   "metadata": {
    "id": "My05CrJo2Ruy"
   },
   "source": [
    "Todo:\n",
    "- Dataset: Right now just concat (also need regularization)\n",
    "  - \"In the multimodal prediction model, the dimension reduction was achieved by fully connected layers. In particular, data of dimension larger than one (e.g., movie genres) was reduced to 1.\" How?\n",
    "- Model evaluation\n",
    "- Questions:\n",
    "  - \"To train this network, discretized movie box-office revenues are adopted. For each input data modality, the training can be conducted separately, and then the pre-trained model can be incorporated to utilize features from multimodal data.\" ???\n",
    "\n",
    "\n",
    "- Notes:\n",
    "  - \"To regularize the training of the multimodal DNN, the original numerical and discretized form of movie box-office revenues were both adopted as output, and parameters of the multimodal DNN were updated according to the cost functions of these two outputs.\"\n",
    "\n",
    "  - \"activation of nth sample in the output layer\""
   ]
  },
  {
   "cell_type": "markdown",
   "metadata": {
    "id": "TgyUX0xtqaZh"
   },
   "source": [
    "# CNN"
   ]
  },
  {
   "cell_type": "code",
   "execution_count": null,
   "metadata": {
    "id": "hZ2NeuB6qbNQ"
   },
   "outputs": [],
   "source": [
    "class CNN(nn.Module):\n",
    "    def __init__(self):\n",
    "        super().__init__()\n",
    "        \n",
    "        self.network = nn.Sequential(\n",
    "            nn.Conv2d(3, 64, kernel_size=(3, 3), padding = 0),\n",
    "            nn.ReLU(),   \n",
    "            nn.MaxPool2d(2,2)\n",
    "\n",
    "        )\n",
    "    \n",
    "    def forward(self, xb):\n",
    "        return self.network(xb)"
   ]
  },
  {
   "cell_type": "code",
   "execution_count": null,
   "metadata": {
    "id": "uIshNtoxqbWO"
   },
   "outputs": [],
   "source": [
    "c = CNN()\n",
    "x = torch.Tensor(np.vstack(test['poster'].to_numpy()))\n",
    "\n",
    "x = torch.transpose(x, -1, 1).transpose(2,3)"
   ]
  },
  {
   "cell_type": "code",
   "execution_count": null,
   "metadata": {
    "id": "Q4AvwAG9M5xE"
   },
   "outputs": [],
   "source": [
    "x.shape"
   ]
  },
  {
   "cell_type": "code",
   "execution_count": null,
   "metadata": {
    "id": "9MJkVw8gJrcw"
   },
   "outputs": [],
   "source": [
    "c.forward(x).shape"
   ]
  }
 ],
 "metadata": {
  "accelerator": "GPU",
  "colab": {
   "provenance": [],
   "toc_visible": true
  },
  "gpuClass": "standard",
  "kernelspec": {
   "display_name": "Python 3 (ipykernel)",
   "language": "python",
   "name": "python3"
  },
  "language_info": {
   "codemirror_mode": {
    "name": "ipython",
    "version": 3
   },
   "file_extension": ".py",
   "mimetype": "text/x-python",
   "name": "python",
   "nbconvert_exporter": "python",
   "pygments_lexer": "ipython3",
   "version": "3.10.10"
  }
 },
 "nbformat": 4,
 "nbformat_minor": 1
}
